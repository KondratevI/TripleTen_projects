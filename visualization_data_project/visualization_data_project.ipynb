{
 "cells": [
  {
   "attachments": {},
   "cell_type": "markdown",
   "id": "0985cd2e",
   "metadata": {},
   "source": [
    "__Project Title: Visualization of Weight Differences in Red Squirrels Based on Diets__"
   ]
  },
  {
   "cell_type": "markdown",
   "id": "85ecde98",
   "metadata": {},
   "source": [
    "__Project Description:__\n",
    "\n",
    "This project involves the visualization of data collected from a mock study where 100 red squirrels were assigned one of three different diets after weaning. The objective of the study was to observe how different diets affected the squirrels' adult weights.\n",
    "\n",
    "The dataset contains the weight measurements of the squirrels when they reached adulthood, grouped by the type of diet they received. The goal of the visualization is to clearly show the weight differences across the three diet groups and provide insights into the potential impact of diet on growth."
   ]
  },
  {
   "cell_type": "code",
   "execution_count": 1,
   "id": "96f52415",
   "metadata": {},
   "outputs": [],
   "source": [
    "# importing libraries: pandas, seaborn, pyplot\n",
    "import pandas as pd\n",
    "import seaborn as sns\n",
    "import matplotlib.pyplot as plt"
   ]
  },
  {
   "cell_type": "code",
   "execution_count": 2,
   "id": "89ccda04",
   "metadata": {},
   "outputs": [],
   "source": [
    "# loading dataframe\n",
    "squirrel_diet = pd.read_csv('squirrel_diet.csv')"
   ]
  },
  {
   "cell_type": "code",
   "execution_count": 3,
   "id": "aafd674d",
   "metadata": {},
   "outputs": [
    {
     "name": "stdout",
     "output_type": "stream",
     "text": [
      "<class 'pandas.core.frame.DataFrame'>\n",
      "RangeIndex: 100 entries, 0 to 99\n",
      "Data columns (total 3 columns):\n",
      " #   Column  Non-Null Count  Dtype  \n",
      "---  ------  --------------  -----  \n",
      " 0   sex     100 non-null    int64  \n",
      " 1   diet    100 non-null    int64  \n",
      " 2   weight  100 non-null    float64\n",
      "dtypes: float64(1), int64(2)\n",
      "memory usage: 2.5 KB\n"
     ]
    }
   ],
   "source": [
    "# checking for missing values, way 1\n",
    "squirrel_diet.info()"
   ]
  },
  {
   "cell_type": "markdown",
   "id": "c956a7c9",
   "metadata": {},
   "source": [
    "__There is 100 rows in the dataframe and 100 non-null values in each of the columns. No missing values__"
   ]
  },
  {
   "cell_type": "code",
   "execution_count": 4,
   "id": "0c45864f",
   "metadata": {},
   "outputs": [
    {
     "name": "stdout",
     "output_type": "stream",
     "text": [
      "sex       0\n",
      "diet      0\n",
      "weight    0\n",
      "dtype: int64\n"
     ]
    }
   ],
   "source": [
    "# checking for missing values, way 2\n",
    "print(squirrel_diet.isna().sum())"
   ]
  },
  {
   "cell_type": "markdown",
   "id": "7e0c57a2",
   "metadata": {},
   "source": [
    "__No missing values using isna() function__"
   ]
  },
  {
   "cell_type": "code",
   "execution_count": 5,
   "id": "aaa3ed44",
   "metadata": {},
   "outputs": [
    {
     "name": "stdout",
     "output_type": "stream",
     "text": [
      "0\n"
     ]
    }
   ],
   "source": [
    "# checking for duplicates\n",
    "print(squirrel_diet.duplicated().sum())"
   ]
  },
  {
   "cell_type": "markdown",
   "id": "038a3182",
   "metadata": {},
   "source": [
    "__No duplicates in the dataframe__"
   ]
  },
  {
   "cell_type": "code",
   "execution_count": 6,
   "id": "c223e9ff",
   "metadata": {},
   "outputs": [],
   "source": [
    "# adding column 'sex_qualitative' for replacement 0 to 'Female', 1 to 'Male'\n",
    "squirrel_diet['sex_qualitative'] = squirrel_diet['sex'].replace([0, 1], ['Female', 'Male'])"
   ]
  },
  {
   "cell_type": "code",
   "execution_count": 7,
   "id": "e8b6e6e4",
   "metadata": {},
   "outputs": [],
   "source": [
    "# creating palette with colours green and magenta\n",
    "my_palette = sns.color_palette(['#006400', '#FF00FF'])"
   ]
  },
  {
   "cell_type": "code",
   "execution_count": 8,
   "id": "6266b7e5",
   "metadata": {},
   "outputs": [
    {
     "data": {
      "image/png": "[encoded data removed]",
      "text/plain": [
       "<Figure size 576x432 with 1 Axes>"
      ]
     },
     "metadata": {
      "needs_background": "light"
     },
     "output_type": "display_data"
    }
   ],
   "source": [
    "# creating stripplot\n",
    "plt.figure(figsize = (8, 6))\n",
    "squireet_diet_plot = sns.stripplot(x = 'diet', \n",
    "             y = 'weight', \n",
    "             data = squirrel_diet, \n",
    "             hue = 'sex_qualitative', \n",
    "             palette = my_palette,\n",
    "             size = 7)\n",
    "squireet_diet_plot.set(xlabel = 'Diet Label', ylabel = 'Adult Weight / lbs', title = 'Red Squirrel Diet Study')\n",
    "plt.legend(title = 'sex')\n",
    "plt.xticks([0, 1, 2], ['A', 'B', 'C'])\n",
    "plt.show()"
   ]
  },
  {
   "cell_type": "markdown",
   "id": "3cc7f0ce",
   "metadata": {},
   "source": [
    "__Insights:__\n",
    "<br>__* diets don't matter gender of the red squirrels__\n",
    "<br>__* red squirrels' weight on a diet A (diet 0 in the dataset) shows little spread__\n",
    "<br>__* red squirrels' weight on a diet B (diet 1 in the dataset) shows big spread__\n",
    "<br>__* red squirrels' weight on a diet C (diet 2 in the dataset) shows medium spread__"
   ]
  }
 ],
 "metadata": {
  "kernelspec": {
   "display_name": "Python 3 (ipykernel)",
   "language": "python",
   "name": "python3"
  },
  "language_info": {
   "codemirror_mode": {
    "name": "ipython",
    "version": 3
   },
   "file_extension": ".py",
   "mimetype": "text/x-python",
   "name": "python",
   "nbconvert_exporter": "python",
   "pygments_lexer": "ipython3",
   "version": "3.10.4"
  },
  "toc": {
   "base_numbering": 1,
   "nav_menu": {},
   "number_sections": true,
   "sideBar": true,
   "skip_h1_title": true,
   "title_cell": "Table of Contents",
   "title_sidebar": "Contents",
   "toc_cell": false,
   "toc_position": {},
   "toc_section_display": true,
   "toc_window_display": false
  }
 },
 "nbformat": 4,
 "nbformat_minor": 5
}
