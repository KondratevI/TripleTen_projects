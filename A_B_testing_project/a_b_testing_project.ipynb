{
 "cells": [
  {
   "cell_type": "markdown",
   "metadata": {},
   "source": [
    "__Project 10: analysing the results of A/B test in a big online store__"
   ]
  },
  {
   "cell_type": "markdown",
   "metadata": {},
   "source": [
    "_The goal of this project is to explore datasets, carry out analysis of the data and make recommendations about A/B testing._  \n",
    "\n",
    "_To do this we'll:_  \n",
    "* _preprocess the data identifying and filling in missing values, identifying and remove duplicate values,_  \n",
    "* _graph:_  \n",
    "    * _cumulative revenue by group,_  \n",
    "    * _cumulative average order size by group,_  \n",
    "    * _the relative difference in cumulative average order size for group B compared with group A,_  \n",
    "    * _a scatter chart of the number of orders per user,_  \n",
    "    * _a scatter chart of order prices,_  \n",
    "    * _the daily conversion rates of the two groups,_  \n",
    "* _calculate:_ \n",
    "    * _each group's conversion rate as the ratio of orders to the number of visits for each day,_  \n",
    "    * _the 95th and 99th percentiles for the number of orders per user,_  \n",
    "    * _the 95th and 99th percentiles of order prices,_  \n",
    "* _find:_ \n",
    "    * _the statistical significance of the difference in conversion between the groups using the raw data,_  \n",
    "    * _the statistical significance of the difference in average order size between the groups using the raw data,_  \n",
    "    * _the statistical significance of the difference in conversion between the groups using the filtered data,_  \n",
    "    * _the statistical significance of the difference in average order size between the groups using the filtered data,_  \n",
    "* _make conclusions and conjectures._"
   ]
  },
  {
   "cell_type": "code",
   "execution_count": 1,
   "metadata": {},
   "outputs": [],
   "source": [
    "# importing libraries: pandas, numpy, matplotlib, plotly.express, seaborn, proportions_ztest, shapiro, mannwhitneyu\n",
    "import pandas as pd\n",
    "import numpy as np\n",
    "import matplotlib.pyplot as plt\n",
    "import plotly.express as px\n",
    "import seaborn as sns\n",
    "from statsmodels.stats.proportion import proportions_ztest\n",
    "from scipy.stats import shapiro\n",
    "from scipy.stats import mannwhitneyu"
   ]
  },
  {
   "cell_type": "code",
   "execution_count": 2,
   "metadata": {},
   "outputs": [],
   "source": [
    "# loading dataframes\n",
    "orders = pd.read_csv('orders_us.csv')\n",
    "visits = pd.read_csv('visits_us.csv')"
   ]
  },
  {
   "cell_type": "code",
   "execution_count": 3,
   "metadata": {},
   "outputs": [],
   "source": [
    "# saving raw data\n",
    "orders_raw = orders\n",
    "visits_raw = visits"
   ]
  },
  {
   "cell_type": "code",
   "execution_count": 4,
   "metadata": {},
   "outputs": [],
   "source": [
    "# creating function to get info about dataframe\n",
    "def get_info(df):\n",
    "    display(df.head(10))\n",
    "    df.info()"
   ]
  },
  {
   "cell_type": "code",
   "execution_count": 5,
   "metadata": {},
   "outputs": [
    {
     "data": {
      "text/html": [
       "<div>\n",
       "<style scoped>\n",
       "    .dataframe tbody tr th:only-of-type {\n",
       "        vertical-align: middle;\n",
       "    }\n",
       "\n",
       "    .dataframe tbody tr th {\n",
       "        vertical-align: top;\n",
       "    }\n",
       "\n",
       "    .dataframe thead th {\n",
       "        text-align: right;\n",
       "    }\n",
       "</style>\n",
       "<table border=\"1\" class=\"dataframe\">\n",
       "  <thead>\n",
       "    <tr style=\"text-align: right;\">\n",
       "      <th></th>\n",
       "      <th>transactionId</th>\n",
       "      <th>visitorId</th>\n",
       "      <th>date</th>\n",
       "      <th>revenue</th>\n",
       "      <th>group</th>\n",
       "    </tr>\n",
       "  </thead>\n",
       "  <tbody>\n",
       "    <tr>\n",
       "      <th>0</th>\n",
       "      <td>3667963787</td>\n",
       "      <td>3312258926</td>\n",
       "      <td>2019-08-15</td>\n",
       "      <td>30.4</td>\n",
       "      <td>B</td>\n",
       "    </tr>\n",
       "    <tr>\n",
       "      <th>1</th>\n",
       "      <td>2804400009</td>\n",
       "      <td>3642806036</td>\n",
       "      <td>2019-08-15</td>\n",
       "      <td>15.2</td>\n",
       "      <td>B</td>\n",
       "    </tr>\n",
       "    <tr>\n",
       "      <th>2</th>\n",
       "      <td>2961555356</td>\n",
       "      <td>4069496402</td>\n",
       "      <td>2019-08-15</td>\n",
       "      <td>10.2</td>\n",
       "      <td>A</td>\n",
       "    </tr>\n",
       "    <tr>\n",
       "      <th>3</th>\n",
       "      <td>3797467345</td>\n",
       "      <td>1196621759</td>\n",
       "      <td>2019-08-15</td>\n",
       "      <td>155.1</td>\n",
       "      <td>B</td>\n",
       "    </tr>\n",
       "    <tr>\n",
       "      <th>4</th>\n",
       "      <td>2282983706</td>\n",
       "      <td>2322279887</td>\n",
       "      <td>2019-08-15</td>\n",
       "      <td>40.5</td>\n",
       "      <td>B</td>\n",
       "    </tr>\n",
       "    <tr>\n",
       "      <th>5</th>\n",
       "      <td>182168103</td>\n",
       "      <td>935554773</td>\n",
       "      <td>2019-08-15</td>\n",
       "      <td>35.0</td>\n",
       "      <td>B</td>\n",
       "    </tr>\n",
       "    <tr>\n",
       "      <th>6</th>\n",
       "      <td>398296753</td>\n",
       "      <td>2900797465</td>\n",
       "      <td>2019-08-15</td>\n",
       "      <td>30.6</td>\n",
       "      <td>B</td>\n",
       "    </tr>\n",
       "    <tr>\n",
       "      <th>7</th>\n",
       "      <td>2626614568</td>\n",
       "      <td>78758296</td>\n",
       "      <td>2019-08-15</td>\n",
       "      <td>20.1</td>\n",
       "      <td>A</td>\n",
       "    </tr>\n",
       "    <tr>\n",
       "      <th>8</th>\n",
       "      <td>1576988021</td>\n",
       "      <td>295230930</td>\n",
       "      <td>2019-08-15</td>\n",
       "      <td>215.9</td>\n",
       "      <td>A</td>\n",
       "    </tr>\n",
       "    <tr>\n",
       "      <th>9</th>\n",
       "      <td>1506739906</td>\n",
       "      <td>1882260405</td>\n",
       "      <td>2019-08-15</td>\n",
       "      <td>30.5</td>\n",
       "      <td>B</td>\n",
       "    </tr>\n",
       "  </tbody>\n",
       "</table>\n",
       "</div>"
      ],
      "text/plain": [
       "   transactionId   visitorId        date  revenue group\n",
       "0     3667963787  3312258926  2019-08-15     30.4     B\n",
       "1     2804400009  3642806036  2019-08-15     15.2     B\n",
       "2     2961555356  4069496402  2019-08-15     10.2     A\n",
       "3     3797467345  1196621759  2019-08-15    155.1     B\n",
       "4     2282983706  2322279887  2019-08-15     40.5     B\n",
       "5      182168103   935554773  2019-08-15     35.0     B\n",
       "6      398296753  2900797465  2019-08-15     30.6     B\n",
       "7     2626614568    78758296  2019-08-15     20.1     A\n",
       "8     1576988021   295230930  2019-08-15    215.9     A\n",
       "9     1506739906  1882260405  2019-08-15     30.5     B"
      ]
     },
     "metadata": {},
     "output_type": "display_data"
    },
    {
     "name": "stdout",
     "output_type": "stream",
     "text": [
      "<class 'pandas.core.frame.DataFrame'>\n",
      "RangeIndex: 1197 entries, 0 to 1196\n",
      "Data columns (total 5 columns):\n",
      " #   Column         Non-Null Count  Dtype  \n",
      "---  ------         --------------  -----  \n",
      " 0   transactionId  1197 non-null   int64  \n",
      " 1   visitorId      1197 non-null   int64  \n",
      " 2   date           1197 non-null   object \n",
      " 3   revenue        1197 non-null   float64\n",
      " 4   group          1197 non-null   object \n",
      "dtypes: float64(1), int64(2), object(2)\n",
      "memory usage: 46.9+ KB\n"
     ]
    },
    {
     "data": {
      "text/html": [
       "<div>\n",
       "<style scoped>\n",
       "    .dataframe tbody tr th:only-of-type {\n",
       "        vertical-align: middle;\n",
       "    }\n",
       "\n",
       "    .dataframe tbody tr th {\n",
       "        vertical-align: top;\n",
       "    }\n",
       "\n",
       "    .dataframe thead th {\n",
       "        text-align: right;\n",
       "    }\n",
       "</style>\n",
       "<table border=\"1\" class=\"dataframe\">\n",
       "  <thead>\n",
       "    <tr style=\"text-align: right;\">\n",
       "      <th></th>\n",
       "      <th>date</th>\n",
       "      <th>group</th>\n",
       "      <th>visits</th>\n",
       "    </tr>\n",
       "  </thead>\n",
       "  <tbody>\n",
       "    <tr>\n",
       "      <th>0</th>\n",
       "      <td>2019-08-01</td>\n",
       "      <td>A</td>\n",
       "      <td>719</td>\n",
       "    </tr>\n",
       "    <tr>\n",
       "      <th>1</th>\n",
       "      <td>2019-08-02</td>\n",
       "      <td>A</td>\n",
       "      <td>619</td>\n",
       "    </tr>\n",
       "    <tr>\n",
       "      <th>2</th>\n",
       "      <td>2019-08-03</td>\n",
       "      <td>A</td>\n",
       "      <td>507</td>\n",
       "    </tr>\n",
       "    <tr>\n",
       "      <th>3</th>\n",
       "      <td>2019-08-04</td>\n",
       "      <td>A</td>\n",
       "      <td>717</td>\n",
       "    </tr>\n",
       "    <tr>\n",
       "      <th>4</th>\n",
       "      <td>2019-08-05</td>\n",
       "      <td>A</td>\n",
       "      <td>756</td>\n",
       "    </tr>\n",
       "    <tr>\n",
       "      <th>5</th>\n",
       "      <td>2019-08-06</td>\n",
       "      <td>A</td>\n",
       "      <td>667</td>\n",
       "    </tr>\n",
       "    <tr>\n",
       "      <th>6</th>\n",
       "      <td>2019-08-07</td>\n",
       "      <td>A</td>\n",
       "      <td>644</td>\n",
       "    </tr>\n",
       "    <tr>\n",
       "      <th>7</th>\n",
       "      <td>2019-08-08</td>\n",
       "      <td>A</td>\n",
       "      <td>610</td>\n",
       "    </tr>\n",
       "    <tr>\n",
       "      <th>8</th>\n",
       "      <td>2019-08-09</td>\n",
       "      <td>A</td>\n",
       "      <td>617</td>\n",
       "    </tr>\n",
       "    <tr>\n",
       "      <th>9</th>\n",
       "      <td>2019-08-10</td>\n",
       "      <td>A</td>\n",
       "      <td>406</td>\n",
       "    </tr>\n",
       "  </tbody>\n",
       "</table>\n",
       "</div>"
      ],
      "text/plain": [
       "         date group  visits\n",
       "0  2019-08-01     A     719\n",
       "1  2019-08-02     A     619\n",
       "2  2019-08-03     A     507\n",
       "3  2019-08-04     A     717\n",
       "4  2019-08-05     A     756\n",
       "5  2019-08-06     A     667\n",
       "6  2019-08-07     A     644\n",
       "7  2019-08-08     A     610\n",
       "8  2019-08-09     A     617\n",
       "9  2019-08-10     A     406"
      ]
     },
     "metadata": {},
     "output_type": "display_data"
    },
    {
     "name": "stdout",
     "output_type": "stream",
     "text": [
      "<class 'pandas.core.frame.DataFrame'>\n",
      "RangeIndex: 62 entries, 0 to 61\n",
      "Data columns (total 3 columns):\n",
      " #   Column  Non-Null Count  Dtype \n",
      "---  ------  --------------  ----- \n",
      " 0   date    62 non-null     object\n",
      " 1   group   62 non-null     object\n",
      " 2   visits  62 non-null     int64 \n",
      "dtypes: int64(1), object(2)\n",
      "memory usage: 1.6+ KB\n"
     ]
    }
   ],
   "source": [
    "get_info(orders)\n",
    "get_info(visits)"
   ]
  },
  {
   "cell_type": "markdown",
   "metadata": {},
   "source": [
    "__Checking for missing values__"
   ]
  },
  {
   "cell_type": "code",
   "execution_count": 6,
   "metadata": {},
   "outputs": [
    {
     "name": "stdout",
     "output_type": "stream",
     "text": [
      "transactionId    0\n",
      "visitorId        0\n",
      "date             0\n",
      "revenue          0\n",
      "group            0\n",
      "dtype: int64\n",
      "\n",
      "date      0\n",
      "group     0\n",
      "visits    0\n",
      "dtype: int64\n"
     ]
    }
   ],
   "source": [
    "# checking for missing values\n",
    "print(orders.isna().sum())\n",
    "print()\n",
    "print(visits.isna().sum())"
   ]
  },
  {
   "cell_type": "markdown",
   "metadata": {},
   "source": [
    "_No missing values_"
   ]
  },
  {
   "cell_type": "markdown",
   "metadata": {},
   "source": [
    "__Checking for duplicates__"
   ]
  },
  {
   "cell_type": "code",
   "execution_count": 7,
   "metadata": {},
   "outputs": [
    {
     "name": "stdout",
     "output_type": "stream",
     "text": [
      "0\n",
      "0\n"
     ]
    }
   ],
   "source": [
    "# checking for duplicated rows\n",
    "print(orders.duplicated().sum())\n",
    "print(visits.duplicated().sum())"
   ]
  },
  {
   "cell_type": "markdown",
   "metadata": {},
   "source": [
    "_No duplicates_"
   ]
  },
  {
   "cell_type": "markdown",
   "metadata": {},
   "source": [
    "__Preparing data in the dataframes__"
   ]
  },
  {
   "cell_type": "code",
   "execution_count": 8,
   "metadata": {},
   "outputs": [],
   "source": [
    "# changing the types of the columns\n",
    "orders['group'] = orders['group'].astype('category')\n",
    "orders['transactionId'] = orders['transactionId'].astype('str')\n",
    "orders['visitorId'] = orders['visitorId'].astype('str')\n",
    "orders['date'] =  pd.to_datetime(orders['date'], format = '%Y-%m-%d')\n",
    "visits['date'] =  pd.to_datetime(visits['date'], format = '%Y-%m-%d')\n",
    "visits['group'] = visits['group'].astype('category')"
   ]
  },
  {
   "cell_type": "code",
   "execution_count": 9,
   "metadata": {},
   "outputs": [
    {
     "data": {
      "text/html": [
       "<div>\n",
       "<style scoped>\n",
       "    .dataframe tbody tr th:only-of-type {\n",
       "        vertical-align: middle;\n",
       "    }\n",
       "\n",
       "    .dataframe tbody tr th {\n",
       "        vertical-align: top;\n",
       "    }\n",
       "\n",
       "    .dataframe thead th {\n",
       "        text-align: right;\n",
       "    }\n",
       "</style>\n",
       "<table border=\"1\" class=\"dataframe\">\n",
       "  <thead>\n",
       "    <tr style=\"text-align: right;\">\n",
       "      <th></th>\n",
       "      <th>transactionId</th>\n",
       "      <th>visitorId</th>\n",
       "      <th>date</th>\n",
       "      <th>revenue</th>\n",
       "      <th>group</th>\n",
       "    </tr>\n",
       "  </thead>\n",
       "  <tbody>\n",
       "    <tr>\n",
       "      <th>0</th>\n",
       "      <td>3667963787</td>\n",
       "      <td>3312258926</td>\n",
       "      <td>2019-08-15</td>\n",
       "      <td>30.4</td>\n",
       "      <td>B</td>\n",
       "    </tr>\n",
       "    <tr>\n",
       "      <th>1</th>\n",
       "      <td>2804400009</td>\n",
       "      <td>3642806036</td>\n",
       "      <td>2019-08-15</td>\n",
       "      <td>15.2</td>\n",
       "      <td>B</td>\n",
       "    </tr>\n",
       "    <tr>\n",
       "      <th>2</th>\n",
       "      <td>2961555356</td>\n",
       "      <td>4069496402</td>\n",
       "      <td>2019-08-15</td>\n",
       "      <td>10.2</td>\n",
       "      <td>A</td>\n",
       "    </tr>\n",
       "    <tr>\n",
       "      <th>3</th>\n",
       "      <td>3797467345</td>\n",
       "      <td>1196621759</td>\n",
       "      <td>2019-08-15</td>\n",
       "      <td>155.1</td>\n",
       "      <td>B</td>\n",
       "    </tr>\n",
       "    <tr>\n",
       "      <th>4</th>\n",
       "      <td>2282983706</td>\n",
       "      <td>2322279887</td>\n",
       "      <td>2019-08-15</td>\n",
       "      <td>40.5</td>\n",
       "      <td>B</td>\n",
       "    </tr>\n",
       "    <tr>\n",
       "      <th>5</th>\n",
       "      <td>182168103</td>\n",
       "      <td>935554773</td>\n",
       "      <td>2019-08-15</td>\n",
       "      <td>35.0</td>\n",
       "      <td>B</td>\n",
       "    </tr>\n",
       "    <tr>\n",
       "      <th>6</th>\n",
       "      <td>398296753</td>\n",
       "      <td>2900797465</td>\n",
       "      <td>2019-08-15</td>\n",
       "      <td>30.6</td>\n",
       "      <td>B</td>\n",
       "    </tr>\n",
       "    <tr>\n",
       "      <th>7</th>\n",
       "      <td>2626614568</td>\n",
       "      <td>78758296</td>\n",
       "      <td>2019-08-15</td>\n",
       "      <td>20.1</td>\n",
       "      <td>A</td>\n",
       "    </tr>\n",
       "    <tr>\n",
       "      <th>8</th>\n",
       "      <td>1576988021</td>\n",
       "      <td>295230930</td>\n",
       "      <td>2019-08-15</td>\n",
       "      <td>215.9</td>\n",
       "      <td>A</td>\n",
       "    </tr>\n",
       "    <tr>\n",
       "      <th>9</th>\n",
       "      <td>1506739906</td>\n",
       "      <td>1882260405</td>\n",
       "      <td>2019-08-15</td>\n",
       "      <td>30.5</td>\n",
       "      <td>B</td>\n",
       "    </tr>\n",
       "  </tbody>\n",
       "</table>\n",
       "</div>"
      ],
      "text/plain": [
       "  transactionId   visitorId       date  revenue group\n",
       "0    3667963787  3312258926 2019-08-15     30.4     B\n",
       "1    2804400009  3642806036 2019-08-15     15.2     B\n",
       "2    2961555356  4069496402 2019-08-15     10.2     A\n",
       "3    3797467345  1196621759 2019-08-15    155.1     B\n",
       "4    2282983706  2322279887 2019-08-15     40.5     B\n",
       "5     182168103   935554773 2019-08-15     35.0     B\n",
       "6     398296753  2900797465 2019-08-15     30.6     B\n",
       "7    2626614568    78758296 2019-08-15     20.1     A\n",
       "8    1576988021   295230930 2019-08-15    215.9     A\n",
       "9    1506739906  1882260405 2019-08-15     30.5     B"
      ]
     },
     "metadata": {},
     "output_type": "display_data"
    },
    {
     "name": "stdout",
     "output_type": "stream",
     "text": [
      "<class 'pandas.core.frame.DataFrame'>\n",
      "RangeIndex: 1197 entries, 0 to 1196\n",
      "Data columns (total 5 columns):\n",
      " #   Column         Non-Null Count  Dtype         \n",
      "---  ------         --------------  -----         \n",
      " 0   transactionId  1197 non-null   object        \n",
      " 1   visitorId      1197 non-null   object        \n",
      " 2   date           1197 non-null   datetime64[ns]\n",
      " 3   revenue        1197 non-null   float64       \n",
      " 4   group          1197 non-null   category      \n",
      "dtypes: category(1), datetime64[ns](1), float64(1), object(2)\n",
      "memory usage: 38.8+ KB\n"
     ]
    },
    {
     "data": {
      "text/html": [
       "<div>\n",
       "<style scoped>\n",
       "    .dataframe tbody tr th:only-of-type {\n",
       "        vertical-align: middle;\n",
       "    }\n",
       "\n",
       "    .dataframe tbody tr th {\n",
       "        vertical-align: top;\n",
       "    }\n",
       "\n",
       "    .dataframe thead th {\n",
       "        text-align: right;\n",
       "    }\n",
       "</style>\n",
       "<table border=\"1\" class=\"dataframe\">\n",
       "  <thead>\n",
       "    <tr style=\"text-align: right;\">\n",
       "      <th></th>\n",
       "      <th>date</th>\n",
       "      <th>group</th>\n",
       "      <th>visits</th>\n",
       "    </tr>\n",
       "  </thead>\n",
       "  <tbody>\n",
       "    <tr>\n",
       "      <th>0</th>\n",
       "      <td>2019-08-01</td>\n",
       "      <td>A</td>\n",
       "      <td>719</td>\n",
       "    </tr>\n",
       "    <tr>\n",
       "      <th>1</th>\n",
       "      <td>2019-08-02</td>\n",
       "      <td>A</td>\n",
       "      <td>619</td>\n",
       "    </tr>\n",
       "    <tr>\n",
       "      <th>2</th>\n",
       "      <td>2019-08-03</td>\n",
       "      <td>A</td>\n",
       "      <td>507</td>\n",
       "    </tr>\n",
       "    <tr>\n",
       "      <th>3</th>\n",
       "      <td>2019-08-04</td>\n",
       "      <td>A</td>\n",
       "      <td>717</td>\n",
       "    </tr>\n",
       "    <tr>\n",
       "      <th>4</th>\n",
       "      <td>2019-08-05</td>\n",
       "      <td>A</td>\n",
       "      <td>756</td>\n",
       "    </tr>\n",
       "    <tr>\n",
       "      <th>5</th>\n",
       "      <td>2019-08-06</td>\n",
       "      <td>A</td>\n",
       "      <td>667</td>\n",
       "    </tr>\n",
       "    <tr>\n",
       "      <th>6</th>\n",
       "      <td>2019-08-07</td>\n",
       "      <td>A</td>\n",
       "      <td>644</td>\n",
       "    </tr>\n",
       "    <tr>\n",
       "      <th>7</th>\n",
       "      <td>2019-08-08</td>\n",
       "      <td>A</td>\n",
       "      <td>610</td>\n",
       "    </tr>\n",
       "    <tr>\n",
       "      <th>8</th>\n",
       "      <td>2019-08-09</td>\n",
       "      <td>A</td>\n",
       "      <td>617</td>\n",
       "    </tr>\n",
       "    <tr>\n",
       "      <th>9</th>\n",
       "      <td>2019-08-10</td>\n",
       "      <td>A</td>\n",
       "      <td>406</td>\n",
       "    </tr>\n",
       "  </tbody>\n",
       "</table>\n",
       "</div>"
      ],
      "text/plain": [
       "        date group  visits\n",
       "0 2019-08-01     A     719\n",
       "1 2019-08-02     A     619\n",
       "2 2019-08-03     A     507\n",
       "3 2019-08-04     A     717\n",
       "4 2019-08-05     A     756\n",
       "5 2019-08-06     A     667\n",
       "6 2019-08-07     A     644\n",
       "7 2019-08-08     A     610\n",
       "8 2019-08-09     A     617\n",
       "9 2019-08-10     A     406"
      ]
     },
     "metadata": {},
     "output_type": "display_data"
    },
    {
     "name": "stdout",
     "output_type": "stream",
     "text": [
      "<class 'pandas.core.frame.DataFrame'>\n",
      "RangeIndex: 62 entries, 0 to 61\n",
      "Data columns (total 3 columns):\n",
      " #   Column  Non-Null Count  Dtype         \n",
      "---  ------  --------------  -----         \n",
      " 0   date    62 non-null     datetime64[ns]\n",
      " 1   group   62 non-null     category      \n",
      " 2   visits  62 non-null     int64         \n",
      "dtypes: category(1), datetime64[ns](1), int64(1)\n",
      "memory usage: 1.3 KB\n"
     ]
    }
   ],
   "source": [
    "get_info(orders)\n",
    "get_info(visits)"
   ]
  },
  {
   "cell_type": "code",
   "execution_count": 10,
   "metadata": {},
   "outputs": [
    {
     "data": {
      "text/html": [
       "<div>\n",
       "<style scoped>\n",
       "    .dataframe tbody tr th:only-of-type {\n",
       "        vertical-align: middle;\n",
       "    }\n",
       "\n",
       "    .dataframe tbody tr th {\n",
       "        vertical-align: top;\n",
       "    }\n",
       "\n",
       "    .dataframe thead th {\n",
       "        text-align: right;\n",
       "    }\n",
       "</style>\n",
       "<table border=\"1\" class=\"dataframe\">\n",
       "  <thead>\n",
       "    <tr style=\"text-align: right;\">\n",
       "      <th></th>\n",
       "      <th>visitorId</th>\n",
       "    </tr>\n",
       "  </thead>\n",
       "  <tbody>\n",
       "    <tr>\n",
       "      <th>57</th>\n",
       "      <td>1230306981</td>\n",
       "    </tr>\n",
       "    <tr>\n",
       "      <th>69</th>\n",
       "      <td>1294878855</td>\n",
       "    </tr>\n",
       "    <tr>\n",
       "      <th>75</th>\n",
       "      <td>1316129916</td>\n",
       "    </tr>\n",
       "    <tr>\n",
       "      <th>78</th>\n",
       "      <td>1333886533</td>\n",
       "    </tr>\n",
       "    <tr>\n",
       "      <th>102</th>\n",
       "      <td>1404934699</td>\n",
       "    </tr>\n",
       "    <tr>\n",
       "      <th>154</th>\n",
       "      <td>1602967004</td>\n",
       "    </tr>\n",
       "    <tr>\n",
       "      <th>161</th>\n",
       "      <td>1614305549</td>\n",
       "    </tr>\n",
       "    <tr>\n",
       "      <th>171</th>\n",
       "      <td>1648269707</td>\n",
       "    </tr>\n",
       "    <tr>\n",
       "      <th>175</th>\n",
       "      <td>1668030113</td>\n",
       "    </tr>\n",
       "    <tr>\n",
       "      <th>193</th>\n",
       "      <td>1738359350</td>\n",
       "    </tr>\n",
       "  </tbody>\n",
       "</table>\n",
       "</div>"
      ],
      "text/plain": [
       "      visitorId\n",
       "57   1230306981\n",
       "69   1294878855\n",
       "75   1316129916\n",
       "78   1333886533\n",
       "102  1404934699\n",
       "154  1602967004\n",
       "161  1614305549\n",
       "171  1648269707\n",
       "175  1668030113\n",
       "193  1738359350"
      ]
     },
     "metadata": {},
     "output_type": "display_data"
    },
    {
     "name": "stdout",
     "output_type": "stream",
     "text": [
      "<class 'pandas.core.frame.DataFrame'>\n",
      "Index: 58 entries, 57 to 1018\n",
      "Data columns (total 1 columns):\n",
      " #   Column     Non-Null Count  Dtype \n",
      "---  ------     --------------  ----- \n",
      " 0   visitorId  58 non-null     object\n",
      "dtypes: object(1)\n",
      "memory usage: 928.0+ bytes\n"
     ]
    }
   ],
   "source": [
    "# finding visitorId which belongs both to A and B groups\n",
    "orders_by_visitors = orders.groupby('visitorId', as_index = False).nunique()\n",
    "orders_by_visitors_in_both_groups = orders_by_visitors[orders_by_visitors['group'] > 1]\n",
    "orders_by_visitors_in_both_groups = orders_by_visitors_in_both_groups.drop(columns = ['transactionId', 'date', 'revenue', 'group'])\n",
    "get_info(orders_by_visitors_in_both_groups)"
   ]
  },
  {
   "cell_type": "code",
   "execution_count": 11,
   "metadata": {},
   "outputs": [
    {
     "data": {
      "text/html": [
       "<div>\n",
       "<style scoped>\n",
       "    .dataframe tbody tr th:only-of-type {\n",
       "        vertical-align: middle;\n",
       "    }\n",
       "\n",
       "    .dataframe tbody tr th {\n",
       "        vertical-align: top;\n",
       "    }\n",
       "\n",
       "    .dataframe thead th {\n",
       "        text-align: right;\n",
       "    }\n",
       "</style>\n",
       "<table border=\"1\" class=\"dataframe\">\n",
       "  <thead>\n",
       "    <tr style=\"text-align: right;\">\n",
       "      <th></th>\n",
       "      <th>transactionId</th>\n",
       "      <th>visitorId</th>\n",
       "      <th>date</th>\n",
       "      <th>revenue</th>\n",
       "      <th>group</th>\n",
       "    </tr>\n",
       "  </thead>\n",
       "  <tbody>\n",
       "    <tr>\n",
       "      <th>0</th>\n",
       "      <td>3667963787</td>\n",
       "      <td>3312258926</td>\n",
       "      <td>2019-08-15</td>\n",
       "      <td>30.4</td>\n",
       "      <td>B</td>\n",
       "    </tr>\n",
       "    <tr>\n",
       "      <th>1</th>\n",
       "      <td>2804400009</td>\n",
       "      <td>3642806036</td>\n",
       "      <td>2019-08-15</td>\n",
       "      <td>15.2</td>\n",
       "      <td>B</td>\n",
       "    </tr>\n",
       "    <tr>\n",
       "      <th>3</th>\n",
       "      <td>3797467345</td>\n",
       "      <td>1196621759</td>\n",
       "      <td>2019-08-15</td>\n",
       "      <td>155.1</td>\n",
       "      <td>B</td>\n",
       "    </tr>\n",
       "    <tr>\n",
       "      <th>4</th>\n",
       "      <td>2282983706</td>\n",
       "      <td>2322279887</td>\n",
       "      <td>2019-08-15</td>\n",
       "      <td>40.5</td>\n",
       "      <td>B</td>\n",
       "    </tr>\n",
       "    <tr>\n",
       "      <th>5</th>\n",
       "      <td>182168103</td>\n",
       "      <td>935554773</td>\n",
       "      <td>2019-08-15</td>\n",
       "      <td>35.0</td>\n",
       "      <td>B</td>\n",
       "    </tr>\n",
       "    <tr>\n",
       "      <th>6</th>\n",
       "      <td>398296753</td>\n",
       "      <td>2900797465</td>\n",
       "      <td>2019-08-15</td>\n",
       "      <td>30.6</td>\n",
       "      <td>B</td>\n",
       "    </tr>\n",
       "    <tr>\n",
       "      <th>7</th>\n",
       "      <td>2626614568</td>\n",
       "      <td>78758296</td>\n",
       "      <td>2019-08-15</td>\n",
       "      <td>20.1</td>\n",
       "      <td>A</td>\n",
       "    </tr>\n",
       "    <tr>\n",
       "      <th>8</th>\n",
       "      <td>1576988021</td>\n",
       "      <td>295230930</td>\n",
       "      <td>2019-08-15</td>\n",
       "      <td>215.9</td>\n",
       "      <td>A</td>\n",
       "    </tr>\n",
       "    <tr>\n",
       "      <th>9</th>\n",
       "      <td>1506739906</td>\n",
       "      <td>1882260405</td>\n",
       "      <td>2019-08-15</td>\n",
       "      <td>30.5</td>\n",
       "      <td>B</td>\n",
       "    </tr>\n",
       "    <tr>\n",
       "      <th>10</th>\n",
       "      <td>3649131742</td>\n",
       "      <td>879864040</td>\n",
       "      <td>2019-08-15</td>\n",
       "      <td>65.7</td>\n",
       "      <td>A</td>\n",
       "    </tr>\n",
       "  </tbody>\n",
       "</table>\n",
       "</div>"
      ],
      "text/plain": [
       "   transactionId   visitorId       date  revenue group\n",
       "0     3667963787  3312258926 2019-08-15     30.4     B\n",
       "1     2804400009  3642806036 2019-08-15     15.2     B\n",
       "3     3797467345  1196621759 2019-08-15    155.1     B\n",
       "4     2282983706  2322279887 2019-08-15     40.5     B\n",
       "5      182168103   935554773 2019-08-15     35.0     B\n",
       "6      398296753  2900797465 2019-08-15     30.6     B\n",
       "7     2626614568    78758296 2019-08-15     20.1     A\n",
       "8     1576988021   295230930 2019-08-15    215.9     A\n",
       "9     1506739906  1882260405 2019-08-15     30.5     B\n",
       "10    3649131742   879864040 2019-08-15     65.7     A"
      ]
     },
     "metadata": {},
     "output_type": "display_data"
    },
    {
     "name": "stdout",
     "output_type": "stream",
     "text": [
      "<class 'pandas.core.frame.DataFrame'>\n",
      "Index: 1016 entries, 0 to 1196\n",
      "Data columns (total 5 columns):\n",
      " #   Column         Non-Null Count  Dtype         \n",
      "---  ------         --------------  -----         \n",
      " 0   transactionId  1016 non-null   object        \n",
      " 1   visitorId      1016 non-null   object        \n",
      " 2   date           1016 non-null   datetime64[ns]\n",
      " 3   revenue        1016 non-null   float64       \n",
      " 4   group          1016 non-null   category      \n",
      "dtypes: category(1), datetime64[ns](1), float64(1), object(2)\n",
      "memory usage: 40.8+ KB\n"
     ]
    }
   ],
   "source": [
    "# removing visitorId which belongs both to A and B groups\n",
    "orders = orders.merge(orders_by_visitors_in_both_groups, on = 'visitorId', how = 'left', indicator = True)\n",
    "orders = orders[orders['_merge'] == 'left_only'].drop(columns = ['_merge'])\n",
    "get_info(orders)"
   ]
  },
  {
   "cell_type": "markdown",
   "metadata": {},
   "source": [
    "__A/B Test Analysis__"
   ]
  },
  {
   "cell_type": "markdown",
   "metadata": {},
   "source": [
    "__1. Graph cumulative revenue by group. Make conclusions and conjectures.__"
   ]
  },
  {
   "cell_type": "code",
   "execution_count": 12,
   "metadata": {},
   "outputs": [
    {
     "data": {
      "image/png": "[encoded data removed]",
      "text/plain": [
       "<Figure size 1296x576 with 1 Axes>"
      ]
     },
     "metadata": {
      "needs_background": "light"
     },
     "output_type": "display_data"
    }
   ],
   "source": [
    "# creating plot to find outliers in orders['revenue']\n",
    "x_values = pd.Series(range(0, len(orders['revenue'])))\n",
    "plt.figure(figsize = (18, 8))\n",
    "plt.grid()\n",
    "plt.scatter(x_values, orders['revenue']);"
   ]
  },
  {
   "cell_type": "markdown",
   "metadata": {},
   "source": [
    "_We can see orders-outliers with unusually big revenue_"
   ]
  },
  {
   "cell_type": "code",
   "execution_count": 13,
   "metadata": {},
   "outputs": [
    {
     "name": "stdout",
     "output_type": "stream",
     "text": [
      "[ 414.275   578.75    830.3    3094.6855]\n"
     ]
    }
   ],
   "source": [
    "# finding values in orders['revenue'] with percentiles: 95, 97.5, 99, 99.9\n",
    "print(np.percentile(orders['revenue'], [95, 97.5, 99, 99.9]))"
   ]
  },
  {
   "cell_type": "code",
   "execution_count": 14,
   "metadata": {},
   "outputs": [
    {
     "data": {
      "text/html": [
       "<div>\n",
       "<style scoped>\n",
       "    .dataframe tbody tr th:only-of-type {\n",
       "        vertical-align: middle;\n",
       "    }\n",
       "\n",
       "    .dataframe tbody tr th {\n",
       "        vertical-align: top;\n",
       "    }\n",
       "\n",
       "    .dataframe thead th {\n",
       "        text-align: right;\n",
       "    }\n",
       "</style>\n",
       "<table border=\"1\" class=\"dataframe\">\n",
       "  <thead>\n",
       "    <tr style=\"text-align: right;\">\n",
       "      <th></th>\n",
       "      <th>transactionId</th>\n",
       "      <th>visitorId</th>\n",
       "      <th>date</th>\n",
       "      <th>revenue</th>\n",
       "      <th>group</th>\n",
       "    </tr>\n",
       "  </thead>\n",
       "  <tbody>\n",
       "    <tr>\n",
       "      <th>425</th>\n",
       "      <td>590470918</td>\n",
       "      <td>1920142716</td>\n",
       "      <td>2019-08-19</td>\n",
       "      <td>19920.4</td>\n",
       "      <td>B</td>\n",
       "    </tr>\n",
       "    <tr>\n",
       "      <th>1196</th>\n",
       "      <td>3936777065</td>\n",
       "      <td>2108080724</td>\n",
       "      <td>2019-08-15</td>\n",
       "      <td>3120.1</td>\n",
       "      <td>B</td>\n",
       "    </tr>\n",
       "    <tr>\n",
       "      <th>1136</th>\n",
       "      <td>666610489</td>\n",
       "      <td>1307669133</td>\n",
       "      <td>2019-08-13</td>\n",
       "      <td>1425.8</td>\n",
       "      <td>A</td>\n",
       "    </tr>\n",
       "    <tr>\n",
       "      <th>744</th>\n",
       "      <td>3668308183</td>\n",
       "      <td>888512513</td>\n",
       "      <td>2019-08-27</td>\n",
       "      <td>1335.6</td>\n",
       "      <td>B</td>\n",
       "    </tr>\n",
       "    <tr>\n",
       "      <th>743</th>\n",
       "      <td>3603576309</td>\n",
       "      <td>4133034833</td>\n",
       "      <td>2019-08-09</td>\n",
       "      <td>1050.0</td>\n",
       "      <td>A</td>\n",
       "    </tr>\n",
       "    <tr>\n",
       "      <th>...</th>\n",
       "      <td>...</td>\n",
       "      <td>...</td>\n",
       "      <td>...</td>\n",
       "      <td>...</td>\n",
       "      <td>...</td>\n",
       "    </tr>\n",
       "    <tr>\n",
       "      <th>414</th>\n",
       "      <td>2505918657</td>\n",
       "      <td>2524310328</td>\n",
       "      <td>2019-08-06</td>\n",
       "      <td>5.2</td>\n",
       "      <td>B</td>\n",
       "    </tr>\n",
       "    <tr>\n",
       "      <th>908</th>\n",
       "      <td>3352225027</td>\n",
       "      <td>1807547430</td>\n",
       "      <td>2019-08-05</td>\n",
       "      <td>5.2</td>\n",
       "      <td>B</td>\n",
       "    </tr>\n",
       "    <tr>\n",
       "      <th>404</th>\n",
       "      <td>2052514069</td>\n",
       "      <td>1995481842</td>\n",
       "      <td>2019-08-28</td>\n",
       "      <td>5.1</td>\n",
       "      <td>B</td>\n",
       "    </tr>\n",
       "    <tr>\n",
       "      <th>602</th>\n",
       "      <td>2356264591</td>\n",
       "      <td>1224903511</td>\n",
       "      <td>2019-08-09</td>\n",
       "      <td>5.1</td>\n",
       "      <td>A</td>\n",
       "    </tr>\n",
       "    <tr>\n",
       "      <th>1003</th>\n",
       "      <td>2765619353</td>\n",
       "      <td>54447517</td>\n",
       "      <td>2019-08-08</td>\n",
       "      <td>5.0</td>\n",
       "      <td>A</td>\n",
       "    </tr>\n",
       "  </tbody>\n",
       "</table>\n",
       "<p>1016 rows × 5 columns</p>\n",
       "</div>"
      ],
      "text/plain": [
       "     transactionId   visitorId       date  revenue group\n",
       "425      590470918  1920142716 2019-08-19  19920.4     B\n",
       "1196    3936777065  2108080724 2019-08-15   3120.1     B\n",
       "1136     666610489  1307669133 2019-08-13   1425.8     A\n",
       "744     3668308183   888512513 2019-08-27   1335.6     B\n",
       "743     3603576309  4133034833 2019-08-09   1050.0     A\n",
       "...            ...         ...        ...      ...   ...\n",
       "414     2505918657  2524310328 2019-08-06      5.2     B\n",
       "908     3352225027  1807547430 2019-08-05      5.2     B\n",
       "404     2052514069  1995481842 2019-08-28      5.1     B\n",
       "602     2356264591  1224903511 2019-08-09      5.1     A\n",
       "1003    2765619353    54447517 2019-08-08      5.0     A\n",
       "\n",
       "[1016 rows x 5 columns]"
      ]
     },
     "metadata": {},
     "output_type": "display_data"
    }
   ],
   "source": [
    "# finding transaction-outliers with unusually big revenue\n",
    "orders_sorted_by_revenue = orders.sort_values(by = ['revenue'], ascending = False)\n",
    "display(orders_sorted_by_revenue)"
   ]
  },
  {
   "cell_type": "markdown",
   "metadata": {},
   "source": [
    "_Transaction-outlier with unusually big revenue (above 99.9 percentile) are IDs: 590470918 and 3936777065_"
   ]
  },
  {
   "cell_type": "code",
   "execution_count": 15,
   "metadata": {},
   "outputs": [],
   "source": [
    "# dropping transactions-outliers with unusually big revenue (above 99.9 percentile)\n",
    "orders = orders.drop([425, 1196], axis = 0)"
   ]
  },
  {
   "cell_type": "code",
   "execution_count": 16,
   "metadata": {},
   "outputs": [
    {
     "data": {
      "text/plain": [
       "0      2019-08-15\n",
       "1      2019-08-15\n",
       "3      2019-08-15\n",
       "4      2019-08-15\n",
       "5      2019-08-15\n",
       "          ...    \n",
       "1190   2019-08-14\n",
       "1191   2019-08-14\n",
       "1192   2019-08-14\n",
       "1193   2019-08-14\n",
       "1194   2019-08-14\n",
       "Name: date, Length: 1014, dtype: datetime64[ns]"
      ]
     },
     "execution_count": 16,
     "metadata": {},
     "output_type": "execute_result"
    }
   ],
   "source": [
    "orders['date']"
   ]
  },
  {
   "cell_type": "code",
   "execution_count": 17,
   "metadata": {},
   "outputs": [],
   "source": [
    "# creating orders_A_group_cumulative_order and orders_B_group_cumulative_order containing cumulative revenue \n",
    "orders_A_group_cumulative_order = orders[orders['group'] == 'A'].groupby(['date'])['revenue'].sum().reset_index()\n",
    "orders_A_group_cumulative_order['revenue_cumulative'] = orders_A_group_cumulative_order['revenue'].cumsum()\n",
    "orders_B_group_cumulative_order = orders[orders['group'] == 'B'].groupby(['date'])['revenue'].sum().reset_index()\n",
    "orders_B_group_cumulative_order['revenue_cumulative'] = orders_B_group_cumulative_order['revenue'].cumsum()"
   ]
  },
  {
   "cell_type": "code",
   "execution_count": 18,
   "metadata": {},
   "outputs": [
    {
     "data": {
      "image/png": "[encoded data removed]",
      "text/plain": [
       "<Figure size 1296x576 with 1 Axes>"
      ]
     },
     "metadata": {
      "needs_background": "light"
     },
     "output_type": "display_data"
    }
   ],
   "source": [
    "# creating plot with cumulative revenue by group\n",
    "plt.figure(figsize = (18, 8))\n",
    "plt.plot(orders_A_group_cumulative_order['date'], orders_A_group_cumulative_order['revenue_cumulative'], label = 'Group A')\n",
    "plt.plot(orders_B_group_cumulative_order['date'], orders_B_group_cumulative_order['revenue_cumulative'], label = 'Group B')\n",
    "plt.title('Cumulative revenue by group')\n",
    "plt.xlabel('Date')\n",
    "plt.ylabel('Cumulative revenue')\n",
    "plt.grid()\n",
    "plt.legend();"
   ]
  },
  {
   "cell_type": "code",
   "execution_count": 19,
   "metadata": {},
   "outputs": [],
   "source": [
    "# creating orders_A_group_by_date and orders_B_group_by_date containing revenue in each group\n",
    "orders_A_group_by_date = orders[orders['group'] == 'A'].groupby(['date'])['revenue'].sum()\n",
    "orders_B_group_by_date = orders[orders['group'] == 'B'].groupby(['date'])['revenue'].sum()"
   ]
  },
  {
   "cell_type": "code",
   "execution_count": 20,
   "metadata": {},
   "outputs": [
    {
     "data": {
      "image/png": "[encoded data removed]",
      "text/plain": [
       "<Figure size 1296x576 with 1 Axes>"
      ]
     },
     "metadata": {
      "needs_background": "light"
     },
     "output_type": "display_data"
    }
   ],
   "source": [
    "# creating plot with revenue by group\n",
    "plt.figure(figsize = (18, 8))\n",
    "plt.plot(orders_A_group_by_date, label = 'A')\n",
    "plt.plot(orders_B_group_by_date, label = 'B')\n",
    "plt.title('Revenue by group')\n",
    "plt.xlabel('Date')\n",
    "plt.ylabel('Revenue')\n",
    "plt.grid()\n",
    "plt.legend();"
   ]
  },
  {
   "cell_type": "markdown",
   "metadata": {},
   "source": [
    "_Usually group B showing better result in cumulative revenue even without transactions-outliers.  \n",
    "Revenue fluctuations in groups are similar._"
   ]
  },
  {
   "cell_type": "markdown",
   "metadata": {},
   "source": [
    "__2. Graph cumulative average order size by group. Make conclusions and conjectures.__"
   ]
  },
  {
   "cell_type": "code",
   "execution_count": 21,
   "metadata": {},
   "outputs": [],
   "source": [
    "# splitting order dataframe into two dataframes by group\n",
    "orders_A_group = orders[orders['group'] == 'A']\n",
    "orders_B_group = orders[orders['group'] == 'B']"
   ]
  },
  {
   "cell_type": "code",
   "execution_count": 22,
   "metadata": {},
   "outputs": [
    {
     "data": {
      "text/html": [
       "<div>\n",
       "<style scoped>\n",
       "    .dataframe tbody tr th:only-of-type {\n",
       "        vertical-align: middle;\n",
       "    }\n",
       "\n",
       "    .dataframe tbody tr th {\n",
       "        vertical-align: top;\n",
       "    }\n",
       "\n",
       "    .dataframe thead th {\n",
       "        text-align: right;\n",
       "    }\n",
       "</style>\n",
       "<table border=\"1\" class=\"dataframe\">\n",
       "  <thead>\n",
       "    <tr style=\"text-align: right;\">\n",
       "      <th></th>\n",
       "      <th>date</th>\n",
       "      <th>transactionId</th>\n",
       "      <th>revenue</th>\n",
       "      <th>order_size_avg</th>\n",
       "      <th>transactionId_cumul</th>\n",
       "      <th>revenue_cumul</th>\n",
       "      <th>order_size_cumul</th>\n",
       "    </tr>\n",
       "  </thead>\n",
       "  <tbody>\n",
       "    <tr>\n",
       "      <th>0</th>\n",
       "      <td>2019-08-01</td>\n",
       "      <td>23</td>\n",
       "      <td>2266.6</td>\n",
       "      <td>98.547826</td>\n",
       "      <td>23</td>\n",
       "      <td>2266.6</td>\n",
       "      <td>98.547826</td>\n",
       "    </tr>\n",
       "    <tr>\n",
       "      <th>1</th>\n",
       "      <td>2019-08-02</td>\n",
       "      <td>19</td>\n",
       "      <td>1468.3</td>\n",
       "      <td>77.278947</td>\n",
       "      <td>42</td>\n",
       "      <td>3734.9</td>\n",
       "      <td>88.926190</td>\n",
       "    </tr>\n",
       "    <tr>\n",
       "      <th>2</th>\n",
       "      <td>2019-08-03</td>\n",
       "      <td>24</td>\n",
       "      <td>1815.2</td>\n",
       "      <td>75.633333</td>\n",
       "      <td>66</td>\n",
       "      <td>5550.1</td>\n",
       "      <td>84.092424</td>\n",
       "    </tr>\n",
       "    <tr>\n",
       "      <th>3</th>\n",
       "      <td>2019-08-04</td>\n",
       "      <td>11</td>\n",
       "      <td>675.5</td>\n",
       "      <td>61.409091</td>\n",
       "      <td>77</td>\n",
       "      <td>6225.6</td>\n",
       "      <td>80.851948</td>\n",
       "    </tr>\n",
       "    <tr>\n",
       "      <th>4</th>\n",
       "      <td>2019-08-05</td>\n",
       "      <td>22</td>\n",
       "      <td>1398.0</td>\n",
       "      <td>63.545455</td>\n",
       "      <td>99</td>\n",
       "      <td>7623.6</td>\n",
       "      <td>77.006061</td>\n",
       "    </tr>\n",
       "    <tr>\n",
       "      <th>5</th>\n",
       "      <td>2019-08-06</td>\n",
       "      <td>15</td>\n",
       "      <td>668.4</td>\n",
       "      <td>44.560000</td>\n",
       "      <td>114</td>\n",
       "      <td>8292.0</td>\n",
       "      <td>72.736842</td>\n",
       "    </tr>\n",
       "    <tr>\n",
       "      <th>6</th>\n",
       "      <td>2019-08-07</td>\n",
       "      <td>16</td>\n",
       "      <td>1942.0</td>\n",
       "      <td>121.375000</td>\n",
       "      <td>130</td>\n",
       "      <td>10234.0</td>\n",
       "      <td>78.723077</td>\n",
       "    </tr>\n",
       "    <tr>\n",
       "      <th>7</th>\n",
       "      <td>2019-08-08</td>\n",
       "      <td>14</td>\n",
       "      <td>1404.8</td>\n",
       "      <td>100.342857</td>\n",
       "      <td>144</td>\n",
       "      <td>11638.8</td>\n",
       "      <td>80.825000</td>\n",
       "    </tr>\n",
       "    <tr>\n",
       "      <th>8</th>\n",
       "      <td>2019-08-09</td>\n",
       "      <td>11</td>\n",
       "      <td>2095.2</td>\n",
       "      <td>190.472727</td>\n",
       "      <td>155</td>\n",
       "      <td>13734.0</td>\n",
       "      <td>88.606452</td>\n",
       "    </tr>\n",
       "    <tr>\n",
       "      <th>9</th>\n",
       "      <td>2019-08-10</td>\n",
       "      <td>15</td>\n",
       "      <td>2387.5</td>\n",
       "      <td>159.166667</td>\n",
       "      <td>170</td>\n",
       "      <td>16121.5</td>\n",
       "      <td>94.832353</td>\n",
       "    </tr>\n",
       "  </tbody>\n",
       "</table>\n",
       "</div>"
      ],
      "text/plain": [
       "        date  transactionId  revenue  order_size_avg  transactionId_cumul  \\\n",
       "0 2019-08-01             23   2266.6       98.547826                   23   \n",
       "1 2019-08-02             19   1468.3       77.278947                   42   \n",
       "2 2019-08-03             24   1815.2       75.633333                   66   \n",
       "3 2019-08-04             11    675.5       61.409091                   77   \n",
       "4 2019-08-05             22   1398.0       63.545455                   99   \n",
       "5 2019-08-06             15    668.4       44.560000                  114   \n",
       "6 2019-08-07             16   1942.0      121.375000                  130   \n",
       "7 2019-08-08             14   1404.8      100.342857                  144   \n",
       "8 2019-08-09             11   2095.2      190.472727                  155   \n",
       "9 2019-08-10             15   2387.5      159.166667                  170   \n",
       "\n",
       "   revenue_cumul  order_size_cumul  \n",
       "0         2266.6         98.547826  \n",
       "1         3734.9         88.926190  \n",
       "2         5550.1         84.092424  \n",
       "3         6225.6         80.851948  \n",
       "4         7623.6         77.006061  \n",
       "5         8292.0         72.736842  \n",
       "6        10234.0         78.723077  \n",
       "7        11638.8         80.825000  \n",
       "8        13734.0         88.606452  \n",
       "9        16121.5         94.832353  "
      ]
     },
     "metadata": {},
     "output_type": "display_data"
    },
    {
     "name": "stdout",
     "output_type": "stream",
     "text": [
      "<class 'pandas.core.frame.DataFrame'>\n",
      "RangeIndex: 31 entries, 0 to 30\n",
      "Data columns (total 7 columns):\n",
      " #   Column               Non-Null Count  Dtype         \n",
      "---  ------               --------------  -----         \n",
      " 0   date                 31 non-null     datetime64[ns]\n",
      " 1   transactionId        31 non-null     int64         \n",
      " 2   revenue              31 non-null     float64       \n",
      " 3   order_size_avg       31 non-null     float64       \n",
      " 4   transactionId_cumul  31 non-null     int64         \n",
      " 5   revenue_cumul        31 non-null     float64       \n",
      " 6   order_size_cumul     31 non-null     float64       \n",
      "dtypes: datetime64[ns](1), float64(4), int64(2)\n",
      "memory usage: 1.8 KB\n"
     ]
    },
    {
     "data": {
      "text/html": [
       "<div>\n",
       "<style scoped>\n",
       "    .dataframe tbody tr th:only-of-type {\n",
       "        vertical-align: middle;\n",
       "    }\n",
       "\n",
       "    .dataframe tbody tr th {\n",
       "        vertical-align: top;\n",
       "    }\n",
       "\n",
       "    .dataframe thead th {\n",
       "        text-align: right;\n",
       "    }\n",
       "</style>\n",
       "<table border=\"1\" class=\"dataframe\">\n",
       "  <thead>\n",
       "    <tr style=\"text-align: right;\">\n",
       "      <th></th>\n",
       "      <th>date</th>\n",
       "      <th>transactionId</th>\n",
       "      <th>revenue</th>\n",
       "      <th>order_size_avg</th>\n",
       "      <th>transactionId_cumul</th>\n",
       "      <th>revenue_cumul</th>\n",
       "      <th>order_size_cumul</th>\n",
       "    </tr>\n",
       "  </thead>\n",
       "  <tbody>\n",
       "    <tr>\n",
       "      <th>0</th>\n",
       "      <td>2019-08-01</td>\n",
       "      <td>17</td>\n",
       "      <td>967.2</td>\n",
       "      <td>56.894118</td>\n",
       "      <td>17</td>\n",
       "      <td>967.2</td>\n",
       "      <td>56.894118</td>\n",
       "    </tr>\n",
       "    <tr>\n",
       "      <th>1</th>\n",
       "      <td>2019-08-02</td>\n",
       "      <td>23</td>\n",
       "      <td>2568.1</td>\n",
       "      <td>111.656522</td>\n",
       "      <td>40</td>\n",
       "      <td>3535.3</td>\n",
       "      <td>88.382500</td>\n",
       "    </tr>\n",
       "    <tr>\n",
       "      <th>2</th>\n",
       "      <td>2019-08-03</td>\n",
       "      <td>14</td>\n",
       "      <td>1071.6</td>\n",
       "      <td>76.542857</td>\n",
       "      <td>54</td>\n",
       "      <td>4606.9</td>\n",
       "      <td>85.312963</td>\n",
       "    </tr>\n",
       "    <tr>\n",
       "      <th>3</th>\n",
       "      <td>2019-08-04</td>\n",
       "      <td>14</td>\n",
       "      <td>1531.6</td>\n",
       "      <td>109.400000</td>\n",
       "      <td>68</td>\n",
       "      <td>6138.5</td>\n",
       "      <td>90.272059</td>\n",
       "    </tr>\n",
       "    <tr>\n",
       "      <th>4</th>\n",
       "      <td>2019-08-05</td>\n",
       "      <td>21</td>\n",
       "      <td>1449.3</td>\n",
       "      <td>69.014286</td>\n",
       "      <td>89</td>\n",
       "      <td>7587.8</td>\n",
       "      <td>85.256180</td>\n",
       "    </tr>\n",
       "    <tr>\n",
       "      <th>5</th>\n",
       "      <td>2019-08-06</td>\n",
       "      <td>23</td>\n",
       "      <td>3369.3</td>\n",
       "      <td>146.491304</td>\n",
       "      <td>112</td>\n",
       "      <td>10957.1</td>\n",
       "      <td>97.831250</td>\n",
       "    </tr>\n",
       "    <tr>\n",
       "      <th>6</th>\n",
       "      <td>2019-08-07</td>\n",
       "      <td>23</td>\n",
       "      <td>3435.6</td>\n",
       "      <td>149.373913</td>\n",
       "      <td>135</td>\n",
       "      <td>14392.7</td>\n",
       "      <td>106.612593</td>\n",
       "    </tr>\n",
       "    <tr>\n",
       "      <th>7</th>\n",
       "      <td>2019-08-08</td>\n",
       "      <td>22</td>\n",
       "      <td>2379.9</td>\n",
       "      <td>108.177273</td>\n",
       "      <td>157</td>\n",
       "      <td>16772.6</td>\n",
       "      <td>106.831847</td>\n",
       "    </tr>\n",
       "    <tr>\n",
       "      <th>8</th>\n",
       "      <td>2019-08-09</td>\n",
       "      <td>19</td>\n",
       "      <td>1656.2</td>\n",
       "      <td>87.168421</td>\n",
       "      <td>176</td>\n",
       "      <td>18428.8</td>\n",
       "      <td>104.709091</td>\n",
       "    </tr>\n",
       "    <tr>\n",
       "      <th>9</th>\n",
       "      <td>2019-08-10</td>\n",
       "      <td>22</td>\n",
       "      <td>1674.8</td>\n",
       "      <td>76.127273</td>\n",
       "      <td>198</td>\n",
       "      <td>20103.6</td>\n",
       "      <td>101.533333</td>\n",
       "    </tr>\n",
       "  </tbody>\n",
       "</table>\n",
       "</div>"
      ],
      "text/plain": [
       "        date  transactionId  revenue  order_size_avg  transactionId_cumul  \\\n",
       "0 2019-08-01             17    967.2       56.894118                   17   \n",
       "1 2019-08-02             23   2568.1      111.656522                   40   \n",
       "2 2019-08-03             14   1071.6       76.542857                   54   \n",
       "3 2019-08-04             14   1531.6      109.400000                   68   \n",
       "4 2019-08-05             21   1449.3       69.014286                   89   \n",
       "5 2019-08-06             23   3369.3      146.491304                  112   \n",
       "6 2019-08-07             23   3435.6      149.373913                  135   \n",
       "7 2019-08-08             22   2379.9      108.177273                  157   \n",
       "8 2019-08-09             19   1656.2       87.168421                  176   \n",
       "9 2019-08-10             22   1674.8       76.127273                  198   \n",
       "\n",
       "   revenue_cumul  order_size_cumul  \n",
       "0          967.2         56.894118  \n",
       "1         3535.3         88.382500  \n",
       "2         4606.9         85.312963  \n",
       "3         6138.5         90.272059  \n",
       "4         7587.8         85.256180  \n",
       "5        10957.1         97.831250  \n",
       "6        14392.7        106.612593  \n",
       "7        16772.6        106.831847  \n",
       "8        18428.8        104.709091  \n",
       "9        20103.6        101.533333  "
      ]
     },
     "metadata": {},
     "output_type": "display_data"
    },
    {
     "name": "stdout",
     "output_type": "stream",
     "text": [
      "<class 'pandas.core.frame.DataFrame'>\n",
      "RangeIndex: 31 entries, 0 to 30\n",
      "Data columns (total 7 columns):\n",
      " #   Column               Non-Null Count  Dtype         \n",
      "---  ------               --------------  -----         \n",
      " 0   date                 31 non-null     datetime64[ns]\n",
      " 1   transactionId        31 non-null     int64         \n",
      " 2   revenue              31 non-null     float64       \n",
      " 3   order_size_avg       31 non-null     float64       \n",
      " 4   transactionId_cumul  31 non-null     int64         \n",
      " 5   revenue_cumul        31 non-null     float64       \n",
      " 6   order_size_cumul     31 non-null     float64       \n",
      "dtypes: datetime64[ns](1), float64(4), int64(2)\n",
      "memory usage: 1.8 KB\n"
     ]
    }
   ],
   "source": [
    "# grouping dataframes by date, finding average order size, cumulative number of orders, cumulative revenue and cumulative average order size\n",
    "orders_A_group_by_date = orders[orders['group'] == 'A'].groupby(['date']).agg({'transactionId': 'nunique', 'revenue': 'sum'}).reset_index()\n",
    "orders_B_group_by_date = orders[orders['group'] == 'B'].groupby(['date']).agg({'transactionId': 'nunique', 'revenue': 'sum'}).reset_index()\n",
    "orders_A_group_by_date['order_size_avg'] = orders_A_group_by_date['revenue'] / orders_A_group_by_date['transactionId']\n",
    "orders_B_group_by_date['order_size_avg'] = orders_B_group_by_date['revenue'] / orders_B_group_by_date['transactionId']\n",
    "orders_A_group_by_date['transactionId_cumul'] = orders_A_group_by_date['transactionId'].cumsum()\n",
    "orders_B_group_by_date['transactionId_cumul'] = orders_B_group_by_date['transactionId'].cumsum()\n",
    "orders_A_group_by_date['revenue_cumul'] = orders_A_group_by_date['revenue'].cumsum()\n",
    "orders_B_group_by_date['revenue_cumul'] = orders_B_group_by_date['revenue'].cumsum()\n",
    "orders_A_group_by_date['order_size_cumul'] = orders_A_group_by_date['revenue_cumul'] / orders_A_group_by_date['transactionId_cumul']\n",
    "orders_B_group_by_date['order_size_cumul'] = orders_B_group_by_date['revenue_cumul'] / orders_B_group_by_date['transactionId_cumul']\n",
    "get_info(orders_A_group_by_date)\n",
    "get_info(orders_B_group_by_date)"
   ]
  },
  {
   "cell_type": "code",
   "execution_count": 23,
   "metadata": {},
   "outputs": [
    {
     "data": {
      "image/png": "[encoded data removed]",
      "text/plain": [
       "<Figure size 1296x576 with 1 Axes>"
      ]
     },
     "metadata": {
      "needs_background": "light"
     },
     "output_type": "display_data"
    }
   ],
   "source": [
    "# creating plot with average order size by group\n",
    "plt.figure(figsize = (18, 8))\n",
    "plt.plot(orders_A_group_by_date['date'], orders_A_group_by_date['order_size_avg'], label = 'Group A')\n",
    "plt.plot(orders_B_group_by_date['date'], orders_B_group_by_date['order_size_avg'], label = 'Group B')\n",
    "plt.title('Average order size by group')\n",
    "plt.xlabel('Date')\n",
    "plt.ylabel('Average order size by group')\n",
    "plt.grid()\n",
    "plt.legend();"
   ]
  },
  {
   "cell_type": "code",
   "execution_count": 24,
   "metadata": {},
   "outputs": [
    {
     "data": {
      "text/plain": [
       "115.5124717608274"
      ]
     },
     "execution_count": 24,
     "metadata": {},
     "output_type": "execute_result"
    }
   ],
   "source": [
    "# finding the mean average order size in the group A\n",
    "orders_A_group_by_date['order_size_avg'].mean()"
   ]
  },
  {
   "cell_type": "code",
   "execution_count": 25,
   "metadata": {},
   "outputs": [
    {
     "data": {
      "text/plain": [
       "104.15091953581474"
      ]
     },
     "execution_count": 25,
     "metadata": {},
     "output_type": "execute_result"
    }
   ],
   "source": [
    "# finding the mean average order size in the group B\n",
    "orders_B_group_by_date['order_size_avg'].mean()"
   ]
  },
  {
   "cell_type": "markdown",
   "metadata": {},
   "source": [
    "_There is little more fluctuations in group A.  \n",
    "Average order size in the group A is bigger._"
   ]
  },
  {
   "cell_type": "code",
   "execution_count": 26,
   "metadata": {},
   "outputs": [
    {
     "data": {
      "image/png": "[encoded data removed]",
      "text/plain": [
       "<Figure size 1296x576 with 1 Axes>"
      ]
     },
     "metadata": {
      "needs_background": "light"
     },
     "output_type": "display_data"
    }
   ],
   "source": [
    "# creating plot with cumulative average order size by group\n",
    "plt.figure(figsize = (18, 8))\n",
    "plt.plot(orders_A_group_by_date['date'], orders_A_group_by_date['order_size_cumul'], label = 'Group A')\n",
    "plt.plot(orders_B_group_by_date['date'], orders_B_group_by_date['order_size_cumul'], label = 'Group B')\n",
    "plt.title('Cumulative average order size by group')\n",
    "plt.xlabel('Date')\n",
    "plt.ylabel('Cumulative average order size by group')\n",
    "plt.grid()\n",
    "plt.legend();"
   ]
  },
  {
   "cell_type": "markdown",
   "metadata": {},
   "source": [
    "_Cumulative average order size after fluctuations in the group A is higher then in the group B.  \n",
    "Cumulative average order size in both groups after 13.09.2019 are stable._"
   ]
  },
  {
   "cell_type": "markdown",
   "metadata": {},
   "source": [
    "__3. Graph the relative difference in cumulative average order size for group B compared with group A. Make conclusions and conjectures.__"
   ]
  },
  {
   "cell_type": "code",
   "execution_count": 27,
   "metadata": {},
   "outputs": [
    {
     "data": {
      "image/png": "[encoded data removed]",
      "text/plain": [
       "<Figure size 1296x576 with 1 Axes>"
      ]
     },
     "metadata": {
      "needs_background": "light"
     },
     "output_type": "display_data"
    }
   ],
   "source": [
    "# creating plot with relative difference in cumulative average order size for group B compared with group A\n",
    "plt.figure(figsize = (18, 8))\n",
    "plt.plot(orders_A_group_by_date['date'], (orders_B_group_by_date['order_size_cumul'] - orders_A_group_by_date['order_size_cumul']))\n",
    "plt.title('Relative difference in cumulative average order size for group B compared with group A')\n",
    "plt.xlabel('Date')\n",
    "plt.grid()\n",
    "plt.ylabel('Relative difference in cumulative average order size for group B compared with group A');"
   ]
  },
  {
   "cell_type": "markdown",
   "metadata": {},
   "source": [
    "_Cumulative average order size after fluctuations in the group A is higher then in the group B about 10.  \n",
    "Considering that group B showing better result in cumulative revenue it can shows that number of orders in the group B are bigger._"
   ]
  },
  {
   "cell_type": "markdown",
   "metadata": {},
   "source": [
    "__4. Calculate each group's conversion rate as the ratio of orders to the number of visits for each day. Plot the daily conversion rates of the two groups and describe the difference. Draw conclusions and make conjectures.__"
   ]
  },
  {
   "cell_type": "code",
   "execution_count": 28,
   "metadata": {},
   "outputs": [],
   "source": [
    "# creating visits_A_group and visits_B_group containing visits by group \n",
    "visits_A_group = visits[visits['group'] == 'A'].groupby(['date'])['visits'].sum().reset_index()\n",
    "visits_B_group = visits[visits['group'] == 'B'].groupby(['date'])['visits'].sum().reset_index()"
   ]
  },
  {
   "cell_type": "code",
   "execution_count": 29,
   "metadata": {},
   "outputs": [],
   "source": [
    "# making orders_A_group_cumulative_order and orders_B_group_cumulative_order dataframes with merged raw data grouped by date\n",
    "orders_A_group_cumulative_order = orders_A_group_by_date.merge(visits_A_group, on = 'date')\n",
    "orders_B_group_cumulative_order = orders_B_group_by_date.merge(visits_B_group, on = 'date')"
   ]
  },
  {
   "cell_type": "code",
   "execution_count": 30,
   "metadata": {},
   "outputs": [],
   "source": [
    "# calculating conversion rate\n",
    "orders_A_group_cumulative_order['conversion_rate'] = orders_A_group_cumulative_order['transactionId'] / orders_A_group_cumulative_order['visits']\n",
    "orders_B_group_cumulative_order['conversion_rate'] = orders_B_group_cumulative_order['transactionId'] / orders_B_group_cumulative_order['visits']"
   ]
  },
  {
   "cell_type": "code",
   "execution_count": 31,
   "metadata": {},
   "outputs": [
    {
     "data": {
      "image/png": "[encoded data removed]",
      "text/plain": [
       "<Figure size 1296x576 with 1 Axes>"
      ]
     },
     "metadata": {
      "needs_background": "light"
     },
     "output_type": "display_data"
    }
   ],
   "source": [
    "# creating plot with conversion rate\n",
    "plt.figure(figsize = (18, 8))\n",
    "plt.plot(orders_A_group_cumulative_order['date'], orders_A_group_cumulative_order['conversion_rate'], label = 'Group A')\n",
    "plt.plot(orders_B_group_cumulative_order['date'], orders_B_group_cumulative_order['conversion_rate'], label = 'Group B')\n",
    "plt.title('Conversion rate')\n",
    "plt.xlabel('Date')\n",
    "plt.ylabel('Conversion rate')\n",
    "plt.grid()\n",
    "plt.legend();"
   ]
  },
  {
   "cell_type": "code",
   "execution_count": 32,
   "metadata": {},
   "outputs": [
    {
     "data": {
      "text/plain": [
       "0.025890306958716493"
      ]
     },
     "execution_count": 32,
     "metadata": {},
     "output_type": "execute_result"
    }
   ],
   "source": [
    "# finding the mean conversion in the group A\n",
    "orders_A_group_cumulative_order['conversion_rate'].mean()"
   ]
  },
  {
   "cell_type": "code",
   "execution_count": 33,
   "metadata": {},
   "outputs": [
    {
     "data": {
      "text/plain": [
       "0.030298466566994108"
      ]
     },
     "execution_count": 33,
     "metadata": {},
     "output_type": "execute_result"
    }
   ],
   "source": [
    "# finding the mean conversion in the group B\n",
    "orders_B_group_cumulative_order['conversion_rate'].mean()"
   ]
  },
  {
   "cell_type": "markdown",
   "metadata": {},
   "source": [
    "_There is little more fluctuations in the group B.  \n",
    "Mean conversion in the group B is bigger._"
   ]
  },
  {
   "cell_type": "markdown",
   "metadata": {},
   "source": [
    "__5. Plot a scatter chart of the number of orders per user. Make conclusions and conjectures.__"
   ]
  },
  {
   "cell_type": "code",
   "execution_count": 34,
   "metadata": {},
   "outputs": [],
   "source": [
    "# creating dataframes for both groups grouped by the number of users who created orders\n",
    "orders_A_group_by_visitor = orders[orders['group'] == 'A'].groupby(['visitorId']).nunique().reset_index()\n",
    "orders_B_group_by_visitor = orders[orders['group'] == 'B'].groupby(['visitorId']).nunique().reset_index()"
   ]
  },
  {
   "cell_type": "code",
   "execution_count": 35,
   "metadata": {},
   "outputs": [
    {
     "data": {
      "image/png": "[encoded data removed]",
      "text/plain": [
       "<Figure size 1296x576 with 1 Axes>"
      ]
     },
     "metadata": {
      "needs_background": "light"
     },
     "output_type": "display_data"
    }
   ],
   "source": [
    "# creating scatterplot \n",
    "x_values_A = pd.Series(range(0, len(orders_A_group_by_visitor['transactionId'])))\n",
    "x_values_B = pd.Series(range(0, len(orders_B_group_by_visitor['transactionId'])))\n",
    "plt.figure(figsize = (18, 8))\n",
    "plt.scatter(x_values_A, orders_A_group_by_visitor['transactionId'], label = 'Group A')\n",
    "plt.scatter(x_values_B, orders_B_group_by_visitor['transactionId'], label = 'Group B');\n",
    "plt.title('Number of orders per user')\n",
    "plt.xlabel('Number of orders')\n",
    "plt.ylabel('Number of orders per user')\n",
    "plt.grid()\n",
    "plt.legend();"
   ]
  },
  {
   "cell_type": "code",
   "execution_count": 36,
   "metadata": {},
   "outputs": [
    {
     "data": {
      "text/plain": [
       "transactionId\n",
       "1    427\n",
       "2     13\n",
       "3      5\n",
       "Name: count, dtype: int64"
      ]
     },
     "execution_count": 36,
     "metadata": {},
     "output_type": "execute_result"
    }
   ],
   "source": [
    "# finding number of orders by user in the A group\n",
    "orders_A_group_by_visitor['transactionId'].value_counts()"
   ]
  },
  {
   "cell_type": "code",
   "execution_count": 37,
   "metadata": {},
   "outputs": [
    {
     "data": {
      "text/plain": [
       "transactionId\n",
       "1    508\n",
       "2     16\n",
       "3      2\n",
       "Name: count, dtype: int64"
      ]
     },
     "execution_count": 37,
     "metadata": {},
     "output_type": "execute_result"
    }
   ],
   "source": [
    "# finding number of orders by user in the B group\n",
    "orders_B_group_by_visitor['transactionId'].value_counts()"
   ]
  },
  {
   "cell_type": "markdown",
   "metadata": {},
   "source": [
    "_Most of the users in the both groups make one order. No users who made more than 3 orders._"
   ]
  },
  {
   "cell_type": "markdown",
   "metadata": {},
   "source": [
    "__6. Calculate the 95th and 99th percentiles for the number of orders per user. Define the point at which a data point becomes an anomaly.__"
   ]
  },
  {
   "cell_type": "code",
   "execution_count": 38,
   "metadata": {},
   "outputs": [
    {
     "name": "stdout",
     "output_type": "stream",
     "text": [
      "[1.   2.56]\n"
     ]
    }
   ],
   "source": [
    "# finding values in orders_A_group_by_visitor['transactionId'] with percentiles: 95, 99\n",
    "print(np.percentile(orders_A_group_by_visitor['transactionId'], [95, 99]))"
   ]
  },
  {
   "cell_type": "code",
   "execution_count": 39,
   "metadata": {},
   "outputs": [
    {
     "name": "stdout",
     "output_type": "stream",
     "text": [
      "[1. 2.]\n"
     ]
    }
   ],
   "source": [
    "# finding values in orders_B_group_by_visitor['transactionId'] with percentiles: 95, 99\n",
    "print(np.percentile(orders_B_group_by_visitor['transactionId'], [95, 99]))"
   ]
  },
  {
   "cell_type": "markdown",
   "metadata": {},
   "source": [
    "_There is no anomalies in the data. We dropped anomallies before._"
   ]
  },
  {
   "cell_type": "markdown",
   "metadata": {},
   "source": [
    "__7. Plot a scatter chart of order prices. Make conclusions and conjectures.__"
   ]
  },
  {
   "cell_type": "code",
   "execution_count": 40,
   "metadata": {},
   "outputs": [],
   "source": [
    "# creating orders_A_group and orders_B_group containing revenue in each group\n",
    "orders_A_group = orders[orders['group'] == 'A']\n",
    "orders_B_group = orders[orders['group'] == 'B']"
   ]
  },
  {
   "cell_type": "code",
   "execution_count": 41,
   "metadata": {},
   "outputs": [
    {
     "data": {
      "image/png": "[encoded data removed]",
      "text/plain": [
       "<Figure size 1296x576 with 1 Axes>"
      ]
     },
     "metadata": {
      "needs_background": "light"
     },
     "output_type": "display_data"
    }
   ],
   "source": [
    "# creating scatterplot\n",
    "plt.figure(figsize = (18, 8))\n",
    "plt.scatter(orders_A_group['date'], orders_A_group['revenue'], label = 'Group A')\n",
    "plt.scatter(orders_B_group['date'], orders_B_group['revenue'], label = 'Group B')\n",
    "plt.title('Order prices')\n",
    "plt.xlabel('Month')\n",
    "plt.ylabel('Order price')\n",
    "plt.grid()\n",
    "plt.legend();"
   ]
  },
  {
   "cell_type": "code",
   "execution_count": 42,
   "metadata": {},
   "outputs": [
    {
     "data": {
      "text/plain": [
       "count     468.000000\n",
       "mean      113.700855\n",
       "std       171.372117\n",
       "min         5.000000\n",
       "25%        20.300000\n",
       "50%        50.100000\n",
       "75%       131.925000\n",
       "max      1425.800000\n",
       "Name: revenue, dtype: float64"
      ]
     },
     "execution_count": 42,
     "metadata": {},
     "output_type": "execute_result"
    }
   ],
   "source": [
    "orders_A_group['revenue'].describe()"
   ]
  },
  {
   "cell_type": "code",
   "execution_count": 43,
   "metadata": {},
   "outputs": [
    {
     "data": {
      "text/plain": [
       "count     546.000000\n",
       "mean      103.682601\n",
       "std       145.198308\n",
       "min         5.100000\n",
       "25%        20.800000\n",
       "50%        45.800000\n",
       "75%       123.825000\n",
       "max      1335.600000\n",
       "Name: revenue, dtype: float64"
      ]
     },
     "execution_count": 43,
     "metadata": {},
     "output_type": "execute_result"
    }
   ],
   "source": [
    "orders_B_group['revenue'].describe()"
   ]
  },
  {
   "cell_type": "markdown",
   "metadata": {},
   "source": [
    "_Mean and median revenue in the B group is bigger._"
   ]
  },
  {
   "cell_type": "markdown",
   "metadata": {},
   "source": [
    "__8. Calculate the 95th and 99th percentiles of order prices. Define the point at which a data point becomes an anomaly.__"
   ]
  },
  {
   "cell_type": "code",
   "execution_count": 44,
   "metadata": {},
   "outputs": [
    {
     "name": "stdout",
     "output_type": "stream",
     "text": [
      "[410.5 815.8]\n"
     ]
    }
   ],
   "source": [
    "# finding values in orders['revenue'] with percentiles: 95, 99\n",
    "print(np.percentile(orders['revenue'], [95, 99]))"
   ]
  },
  {
   "cell_type": "code",
   "execution_count": 45,
   "metadata": {},
   "outputs": [
    {
     "data": {
      "image/png": "[encoded data removed]",
      "text/plain": [
       "<Figure size 1296x576 with 1 Axes>"
      ]
     },
     "metadata": {
      "needs_background": "light"
     },
     "output_type": "display_data"
    }
   ],
   "source": [
    "# plotting histogram\n",
    "plt.figure(figsize = (18, 8))\n",
    "plt.grid()\n",
    "plt.hist(orders['revenue']);"
   ]
  },
  {
   "cell_type": "markdown",
   "metadata": {},
   "source": [
    "_There is no anomalies in the data. We dropped anomallies before._"
   ]
  },
  {
   "cell_type": "markdown",
   "metadata": {},
   "source": [
    "__9. Find the statistical significance of the difference in conversion between the groups using the raw data. Make conclusions and conjectures.__"
   ]
  },
  {
   "cell_type": "markdown",
   "metadata": {},
   "source": [
    "_H0: No difference between conversion in the groups in the raw data._"
   ]
  },
  {
   "cell_type": "code",
   "execution_count": 46,
   "metadata": {},
   "outputs": [
    {
     "data": {
      "text/html": [
       "<div>\n",
       "<style scoped>\n",
       "    .dataframe tbody tr th:only-of-type {\n",
       "        vertical-align: middle;\n",
       "    }\n",
       "\n",
       "    .dataframe tbody tr th {\n",
       "        vertical-align: top;\n",
       "    }\n",
       "\n",
       "    .dataframe thead th {\n",
       "        text-align: right;\n",
       "    }\n",
       "</style>\n",
       "<table border=\"1\" class=\"dataframe\">\n",
       "  <thead>\n",
       "    <tr style=\"text-align: right;\">\n",
       "      <th></th>\n",
       "      <th>transactionId</th>\n",
       "      <th>visitorId</th>\n",
       "      <th>date</th>\n",
       "      <th>revenue</th>\n",
       "      <th>group</th>\n",
       "    </tr>\n",
       "  </thead>\n",
       "  <tbody>\n",
       "    <tr>\n",
       "      <th>0</th>\n",
       "      <td>3667963787</td>\n",
       "      <td>3312258926</td>\n",
       "      <td>2019-08-15</td>\n",
       "      <td>30.4</td>\n",
       "      <td>B</td>\n",
       "    </tr>\n",
       "    <tr>\n",
       "      <th>1</th>\n",
       "      <td>2804400009</td>\n",
       "      <td>3642806036</td>\n",
       "      <td>2019-08-15</td>\n",
       "      <td>15.2</td>\n",
       "      <td>B</td>\n",
       "    </tr>\n",
       "    <tr>\n",
       "      <th>2</th>\n",
       "      <td>2961555356</td>\n",
       "      <td>4069496402</td>\n",
       "      <td>2019-08-15</td>\n",
       "      <td>10.2</td>\n",
       "      <td>A</td>\n",
       "    </tr>\n",
       "    <tr>\n",
       "      <th>3</th>\n",
       "      <td>3797467345</td>\n",
       "      <td>1196621759</td>\n",
       "      <td>2019-08-15</td>\n",
       "      <td>155.1</td>\n",
       "      <td>B</td>\n",
       "    </tr>\n",
       "    <tr>\n",
       "      <th>4</th>\n",
       "      <td>2282983706</td>\n",
       "      <td>2322279887</td>\n",
       "      <td>2019-08-15</td>\n",
       "      <td>40.5</td>\n",
       "      <td>B</td>\n",
       "    </tr>\n",
       "    <tr>\n",
       "      <th>...</th>\n",
       "      <td>...</td>\n",
       "      <td>...</td>\n",
       "      <td>...</td>\n",
       "      <td>...</td>\n",
       "      <td>...</td>\n",
       "    </tr>\n",
       "    <tr>\n",
       "      <th>1192</th>\n",
       "      <td>2662137336</td>\n",
       "      <td>3733762160</td>\n",
       "      <td>2019-08-14</td>\n",
       "      <td>100.8</td>\n",
       "      <td>B</td>\n",
       "    </tr>\n",
       "    <tr>\n",
       "      <th>1193</th>\n",
       "      <td>2203539145</td>\n",
       "      <td>370388673</td>\n",
       "      <td>2019-08-14</td>\n",
       "      <td>50.1</td>\n",
       "      <td>A</td>\n",
       "    </tr>\n",
       "    <tr>\n",
       "      <th>1194</th>\n",
       "      <td>1807773912</td>\n",
       "      <td>573423106</td>\n",
       "      <td>2019-08-14</td>\n",
       "      <td>165.3</td>\n",
       "      <td>A</td>\n",
       "    </tr>\n",
       "    <tr>\n",
       "      <th>1195</th>\n",
       "      <td>1947021204</td>\n",
       "      <td>1614305549</td>\n",
       "      <td>2019-08-14</td>\n",
       "      <td>5.5</td>\n",
       "      <td>A</td>\n",
       "    </tr>\n",
       "    <tr>\n",
       "      <th>1196</th>\n",
       "      <td>3936777065</td>\n",
       "      <td>2108080724</td>\n",
       "      <td>2019-08-15</td>\n",
       "      <td>3120.1</td>\n",
       "      <td>B</td>\n",
       "    </tr>\n",
       "  </tbody>\n",
       "</table>\n",
       "<p>1197 rows × 5 columns</p>\n",
       "</div>"
      ],
      "text/plain": [
       "     transactionId   visitorId       date  revenue group\n",
       "0       3667963787  3312258926 2019-08-15     30.4     B\n",
       "1       2804400009  3642806036 2019-08-15     15.2     B\n",
       "2       2961555356  4069496402 2019-08-15     10.2     A\n",
       "3       3797467345  1196621759 2019-08-15    155.1     B\n",
       "4       2282983706  2322279887 2019-08-15     40.5     B\n",
       "...            ...         ...        ...      ...   ...\n",
       "1192    2662137336  3733762160 2019-08-14    100.8     B\n",
       "1193    2203539145   370388673 2019-08-14     50.1     A\n",
       "1194    1807773912   573423106 2019-08-14    165.3     A\n",
       "1195    1947021204  1614305549 2019-08-14      5.5     A\n",
       "1196    3936777065  2108080724 2019-08-15   3120.1     B\n",
       "\n",
       "[1197 rows x 5 columns]"
      ]
     },
     "execution_count": 46,
     "metadata": {},
     "output_type": "execute_result"
    }
   ],
   "source": [
    "orders_raw"
   ]
  },
  {
   "cell_type": "code",
   "execution_count": 47,
   "metadata": {},
   "outputs": [],
   "source": [
    "# making orders_raw_A_group and orders_raw_B_group dataframes with merged raw data grouped by date\n",
    "visits_raw_A_group = visits_raw[visits_raw['group'] == 'A'].groupby(['date'])['visits'].sum().reset_index()\n",
    "visits_raw_B_group = visits_raw[visits_raw['group'] == 'B'].groupby(['date'])['visits'].sum().reset_index()\n",
    "orders_raw_A_group = orders_raw[orders_raw['group'] == 'A'].groupby(['date']).agg({'transactionId': 'nunique', 'revenue': 'sum'}).reset_index()\n",
    "orders_raw_B_group = orders_raw[orders_raw['group'] == 'B'].groupby(['date']).agg({'transactionId': 'nunique', 'revenue': 'sum'}).reset_index()\n",
    "orders_raw_A_group = orders_raw_A_group.merge(visits_raw_A_group, on = 'date')\n",
    "orders_raw_B_group = orders_raw_B_group.merge(visits_raw_B_group, on = 'date')"
   ]
  },
  {
   "cell_type": "code",
   "execution_count": 48,
   "metadata": {},
   "outputs": [
    {
     "name": "stdout",
     "output_type": "stream",
     "text": [
      "Statistical significance of the difference in conversion: 0.02320723394441847\n"
     ]
    }
   ],
   "source": [
    "# finding statistical significance of the difference in conversion\n",
    "z_stat, p_value = proportions_ztest([orders_raw_A_group['transactionId'].sum(), orders_raw_B_group['transactionId'].sum()], [orders_raw_A_group['visits'].sum(), orders_raw_B_group['visits'].sum()])\n",
    "print('Statistical significance of the difference in conversion:', p_value)"
   ]
  },
  {
   "cell_type": "markdown",
   "metadata": {},
   "source": [
    "_Statistical significance of the difference in conversion between the groups in the raw data is low (below 0.05).  \n",
    "H0 rejected._"
   ]
  },
  {
   "cell_type": "markdown",
   "metadata": {},
   "source": [
    "__10. Find the statistical significance of the difference in average order size between the groups using the raw data. Make conclusions and conjectures.__"
   ]
  },
  {
   "cell_type": "markdown",
   "metadata": {},
   "source": [
    "_H0: No difference between average order size in the groups in the raw data._"
   ]
  },
  {
   "cell_type": "code",
   "execution_count": 49,
   "metadata": {},
   "outputs": [],
   "source": [
    "# calculating average order sizes in the raw data\n",
    "orders_raw_A_group['order_size_avg'] = orders_raw_A_group['revenue'] / orders_raw_A_group['transactionId']\n",
    "orders_raw_B_group['order_size_avg'] = orders_raw_B_group['revenue'] / orders_raw_B_group['transactionId']"
   ]
  },
  {
   "cell_type": "code",
   "execution_count": 50,
   "metadata": {},
   "outputs": [
    {
     "name": "stdout",
     "output_type": "stream",
     "text": [
      "ShapiroResult(statistic=0.878296971321106, pvalue=0.0021608269307762384)\n",
      "ShapiroResult(statistic=0.3308287262916565, pvalue=8.560252506839561e-11)\n"
     ]
    }
   ],
   "source": [
    "# checking if disributions of average order sizes in the raw data are normal\n",
    "print(shapiro(orders_raw_A_group['order_size_avg']))\n",
    "print(shapiro(orders_raw_B_group['order_size_avg']))"
   ]
  },
  {
   "cell_type": "markdown",
   "metadata": {},
   "source": [
    "_Both distributions of average order sizes in the raw data are not normal. We should use Mann–Whitney U test._"
   ]
  },
  {
   "cell_type": "code",
   "execution_count": 51,
   "metadata": {},
   "outputs": [
    {
     "name": "stdout",
     "output_type": "stream",
     "text": [
      "MannwhitneyuResult(statistic=423.0, pvalue=0.4222761086468382)\n"
     ]
    }
   ],
   "source": [
    "print(mannwhitneyu(orders_raw_A_group['order_size_avg'], orders_raw_B_group['order_size_avg']))"
   ]
  },
  {
   "cell_type": "markdown",
   "metadata": {},
   "source": [
    "_Statistical significance of the difference in average order size between the groups using the raw data is high (above 0.05).  \n",
    "Fail to reject H0._"
   ]
  },
  {
   "cell_type": "markdown",
   "metadata": {},
   "source": [
    "__11. Find the statistical significance of the difference in conversion between the groups using the filtered data. Make conclusions and conjectures.__"
   ]
  },
  {
   "cell_type": "markdown",
   "metadata": {},
   "source": [
    "_H0: No difference between conversion in the groups in the filtered data._"
   ]
  },
  {
   "cell_type": "code",
   "execution_count": 52,
   "metadata": {},
   "outputs": [
    {
     "name": "stdout",
     "output_type": "stream",
     "text": [
      "Statistical significance of the difference in conversion: 0.01986659212118497\n"
     ]
    }
   ],
   "source": [
    "# finding statistical significance of the difference in conversion\n",
    "z_stat, p_value = proportions_ztest([orders_A_group_cumulative_order['transactionId'].sum(), orders_B_group_cumulative_order['transactionId'].sum()], [orders_A_group_cumulative_order['visits'].sum(), orders_B_group_cumulative_order['visits'].sum()])\n",
    "print('Statistical significance of the difference in conversion:', p_value)"
   ]
  },
  {
   "cell_type": "markdown",
   "metadata": {},
   "source": [
    "_Statistical significance of the difference in conversion between the groups is low (below 0.05).  \n",
    "H0 rejected._"
   ]
  },
  {
   "cell_type": "markdown",
   "metadata": {},
   "source": [
    "__12. Find the statistical significance of the difference in average order size between the groups using the filtered data. Make conclusions and conjectures.__"
   ]
  },
  {
   "cell_type": "markdown",
   "metadata": {},
   "source": [
    "_H0: No difference between average order size in the groups in the filtered data._"
   ]
  },
  {
   "cell_type": "code",
   "execution_count": 53,
   "metadata": {},
   "outputs": [],
   "source": [
    "# calculating average order sizes\n",
    "orders_A_group_cumulative_order['order_size_avg'] = orders_A_group_cumulative_order['revenue'] / orders_A_group_cumulative_order['transactionId']\n",
    "orders_B_group_cumulative_order['order_size_avg'] = orders_B_group_cumulative_order['revenue'] / orders_B_group_cumulative_order['transactionId']"
   ]
  },
  {
   "cell_type": "code",
   "execution_count": 54,
   "metadata": {},
   "outputs": [
    {
     "name": "stdout",
     "output_type": "stream",
     "text": [
      "ShapiroResult(statistic=0.9144196510314941, pvalue=0.01683112233877182)\n",
      "ShapiroResult(statistic=0.9621258974075317, pvalue=0.33174824714660645)\n"
     ]
    }
   ],
   "source": [
    "# checking if disributions of average order sizes are normal\n",
    "print(shapiro(orders_A_group_cumulative_order['order_size_avg']))\n",
    "print(shapiro(orders_B_group_cumulative_order['order_size_avg']))"
   ]
  },
  {
   "cell_type": "markdown",
   "metadata": {},
   "source": [
    "_Distribution of average order sizes in the group A is normal, in the group B - is not normal. We should use Mann–Whitney U test._"
   ]
  },
  {
   "cell_type": "code",
   "execution_count": 55,
   "metadata": {},
   "outputs": [
    {
     "name": "stdout",
     "output_type": "stream",
     "text": [
      "MannwhitneyuResult(statistic=523.0, pvalue=0.5543193695171094)\n"
     ]
    }
   ],
   "source": [
    "print(mannwhitneyu(orders_A_group_cumulative_order['order_size_avg'], orders_B_group_cumulative_order['order_size_avg']))"
   ]
  },
  {
   "cell_type": "markdown",
   "metadata": {},
   "source": [
    "_Statistical significance of the difference in average order size between the groups is high (above 0.05).  \n",
    "Fail to reject H0._"
   ]
  },
  {
   "cell_type": "markdown",
   "metadata": {},
   "source": [
    "__13. Make a decision based on the test results. The possible decisions are: 1. Stop the test, consider one of the groups the leader. 2. Stop the test, conclude that there is no difference between the groups. 3. Continue the test.__"
   ]
  },
  {
   "cell_type": "markdown",
   "metadata": {},
   "source": [
    "___Conclusions___  \n",
    "_1. Usually group B showing better result in cumulative revenue even without transactions-outliers. Revenue fluctuations in groups are similar._  \n",
    "_2. Average order size in the group A is bigger._  \n",
    "_3. Cumulative average order size after fluctuations in the group A is higher then in the group B about 10._  \n",
    "_4. Mean conversion in the group B is bigger._  \n",
    "_5. Most of the users in the both groups make one order. No users who made more than 3 orders._  \n",
    "_6. Mean and median revenue in the B group is bigger._  \n",
    "_7. Statistical significance of the difference in conversion between the groups in the raw data is low (below 0.05). H0 rejected._  \n",
    "_8. Statistical significance of the difference in average order size between the groups in the raw data is high (above 0.05). Fail to reject H0._  \n",
    "_9. Statistical significance of the difference in conversion between the groups in the filtered data is low (below 0.05). H0 rejected._  \n",
    "_10. Statistical significance of the difference in average order size between the groups in the filtered is high (above 0.05). Fail to reject H0._  \n",
    "_11. We can't say with certainty if the hypothesis that the conversion in one of the group is bigger because of rejecting the H0._  \n",
    "_12. There is high probability that average order size in the group A is higher because of failing to reject the H0._  \n",
    "_13. It's recommended to stop the test, consider the group B as the leader. The relative difference in cumulative average order size for group B compared with group A is stable and statistical significance of the difference is high (above 0.05), we can say that the difference is significant_"
   ]
  }
 ],
 "metadata": {
  "ExecuteTimeLog": [
   {
    "duration": 171,
    "start_time": "2024-09-17T13:22:22.618Z"
   },
   {
    "duration": 874,
    "start_time": "2024-09-17T13:22:31.861Z"
   },
   {
    "duration": 25,
    "start_time": "2024-09-17T13:22:32.737Z"
   },
   {
    "duration": 2,
    "start_time": "2024-09-17T13:22:32.764Z"
   },
   {
    "duration": 2,
    "start_time": "2024-09-17T13:22:32.769Z"
   },
   {
    "duration": 32,
    "start_time": "2024-09-17T13:22:32.773Z"
   },
   {
    "duration": 6,
    "start_time": "2024-09-17T13:22:32.807Z"
   },
   {
    "duration": 6,
    "start_time": "2024-09-17T13:22:32.814Z"
   },
   {
    "duration": 8,
    "start_time": "2024-09-17T13:22:32.843Z"
   },
   {
    "duration": 33,
    "start_time": "2024-09-17T13:22:32.852Z"
   },
   {
    "duration": 16,
    "start_time": "2024-09-17T13:22:32.889Z"
   },
   {
    "duration": 53,
    "start_time": "2024-09-17T13:22:32.907Z"
   },
   {
    "duration": 20,
    "start_time": "2024-09-17T13:22:32.962Z"
   },
   {
    "duration": 183,
    "start_time": "2024-09-17T13:22:32.983Z"
   },
   {
    "duration": 4,
    "start_time": "2024-09-17T13:22:33.168Z"
   },
   {
    "duration": 12,
    "start_time": "2024-09-17T13:22:33.174Z"
   },
   {
    "duration": 3,
    "start_time": "2024-09-17T13:22:33.187Z"
   },
   {
    "duration": 5,
    "start_time": "2024-09-17T13:22:33.192Z"
   },
   {
    "duration": 9,
    "start_time": "2024-09-17T13:22:33.199Z"
   },
   {
    "duration": 321,
    "start_time": "2024-09-17T13:22:33.210Z"
   },
   {
    "duration": 7,
    "start_time": "2024-09-17T13:22:33.534Z"
   },
   {
    "duration": 223,
    "start_time": "2024-09-17T13:22:33.543Z"
   },
   {
    "duration": 5,
    "start_time": "2024-09-17T13:22:33.768Z"
   },
   {
    "duration": 37,
    "start_time": "2024-09-17T13:22:33.774Z"
   },
   {
    "duration": 239,
    "start_time": "2024-09-17T13:22:33.813Z"
   },
   {
    "duration": 5,
    "start_time": "2024-09-17T13:22:34.054Z"
   },
   {
    "duration": 5,
    "start_time": "2024-09-17T13:22:34.061Z"
   },
   {
    "duration": 231,
    "start_time": "2024-09-17T13:22:34.068Z"
   },
   {
    "duration": 216,
    "start_time": "2024-09-17T13:22:34.304Z"
   },
   {
    "duration": 9,
    "start_time": "2024-09-17T13:22:34.522Z"
   },
   {
    "duration": 15,
    "start_time": "2024-09-17T13:22:34.533Z"
   },
   {
    "duration": 4,
    "start_time": "2024-09-17T13:22:34.550Z"
   },
   {
    "duration": 230,
    "start_time": "2024-09-17T13:22:34.555Z"
   },
   {
    "duration": 4,
    "start_time": "2024-09-17T13:22:34.787Z"
   },
   {
    "duration": 4,
    "start_time": "2024-09-17T13:22:34.792Z"
   },
   {
    "duration": 10,
    "start_time": "2024-09-17T13:22:34.798Z"
   },
   {
    "duration": 228,
    "start_time": "2024-09-17T13:22:34.810Z"
   },
   {
    "duration": 4,
    "start_time": "2024-09-17T13:22:35.043Z"
   },
   {
    "duration": 5,
    "start_time": "2024-09-17T13:22:35.049Z"
   },
   {
    "duration": 6,
    "start_time": "2024-09-17T13:22:35.055Z"
   },
   {
    "duration": 4,
    "start_time": "2024-09-17T13:22:35.062Z"
   },
   {
    "duration": 5,
    "start_time": "2024-09-17T13:22:35.067Z"
   },
   {
    "duration": 270,
    "start_time": "2024-09-17T13:22:35.074Z"
   },
   {
    "duration": 6,
    "start_time": "2024-09-17T13:22:35.347Z"
   },
   {
    "duration": 6,
    "start_time": "2024-09-17T13:22:35.355Z"
   },
   {
    "duration": 4,
    "start_time": "2024-09-17T13:22:35.363Z"
   },
   {
    "duration": 179,
    "start_time": "2024-09-17T13:22:35.368Z"
   },
   {
    "duration": 18,
    "start_time": "2024-09-17T13:22:35.549Z"
   },
   {
    "duration": 5,
    "start_time": "2024-09-17T13:22:35.569Z"
   },
   {
    "duration": 2,
    "start_time": "2024-09-17T13:22:35.577Z"
   },
   {
    "duration": 4,
    "start_time": "2024-09-17T13:22:35.581Z"
   },
   {
    "duration": 4,
    "start_time": "2024-09-17T13:22:35.586Z"
   },
   {
    "duration": 4,
    "start_time": "2024-09-17T13:22:35.592Z"
   },
   {
    "duration": 45,
    "start_time": "2024-09-17T13:22:35.598Z"
   },
   {
    "duration": 3,
    "start_time": "2024-09-17T13:22:35.645Z"
   },
   {
    "duration": 4,
    "start_time": "2024-09-17T13:22:35.650Z"
   },
   {
    "duration": 4,
    "start_time": "2024-09-17T13:22:35.655Z"
   },
   {
    "duration": 4,
    "start_time": "2024-09-17T13:23:14.002Z"
   },
   {
    "duration": 2561,
    "start_time": "2024-12-19T16:02:53.661Z"
   },
   {
    "duration": 23,
    "start_time": "2024-12-19T16:02:56.224Z"
   },
   {
    "duration": 3,
    "start_time": "2024-12-19T16:02:56.249Z"
   },
   {
    "duration": 3,
    "start_time": "2024-12-19T16:02:56.254Z"
   },
   {
    "duration": 42,
    "start_time": "2024-12-19T16:02:56.260Z"
   },
   {
    "duration": 7,
    "start_time": "2024-12-19T16:02:56.303Z"
   },
   {
    "duration": 6,
    "start_time": "2024-12-19T16:02:56.311Z"
   },
   {
    "duration": 9,
    "start_time": "2024-12-19T16:02:56.318Z"
   },
   {
    "duration": 68,
    "start_time": "2024-12-19T16:02:56.329Z"
   },
   {
    "duration": 17,
    "start_time": "2024-12-19T16:02:56.399Z"
   },
   {
    "duration": 21,
    "start_time": "2024-12-19T16:02:56.417Z"
   },
   {
    "duration": 15,
    "start_time": "2024-12-19T16:02:56.440Z"
   },
   {
    "duration": 175,
    "start_time": "2024-12-19T16:02:56.487Z"
   },
   {
    "duration": 3,
    "start_time": "2024-12-19T16:02:56.666Z"
   },
   {
    "duration": 24,
    "start_time": "2024-12-19T16:02:56.671Z"
   },
   {
    "duration": 3,
    "start_time": "2024-12-19T16:02:56.698Z"
   },
   {
    "duration": 4,
    "start_time": "2024-12-19T16:02:56.703Z"
   },
   {
    "duration": 9,
    "start_time": "2024-12-19T16:02:56.709Z"
   },
   {
    "duration": 248,
    "start_time": "2024-12-19T16:02:56.719Z"
   },
   {
    "duration": 8,
    "start_time": "2024-12-19T16:02:56.970Z"
   },
   {
    "duration": 229,
    "start_time": "2024-12-19T16:02:56.980Z"
   },
   {
    "duration": 5,
    "start_time": "2024-12-19T16:02:57.211Z"
   },
   {
    "duration": 37,
    "start_time": "2024-12-19T16:02:57.218Z"
   },
   {
    "duration": 250,
    "start_time": "2024-12-19T16:02:57.259Z"
   },
   {
    "duration": 4,
    "start_time": "2024-12-19T16:02:57.511Z"
   },
   {
    "duration": 4,
    "start_time": "2024-12-19T16:02:57.517Z"
   },
   {
    "duration": 232,
    "start_time": "2024-12-19T16:02:57.524Z"
   },
   {
    "duration": 218,
    "start_time": "2024-12-19T16:02:57.758Z"
   },
   {
    "duration": 14,
    "start_time": "2024-12-19T16:02:57.978Z"
   },
   {
    "duration": 7,
    "start_time": "2024-12-19T16:02:57.993Z"
   },
   {
    "duration": 4,
    "start_time": "2024-12-19T16:02:58.002Z"
   },
   {
    "duration": 301,
    "start_time": "2024-12-19T16:02:58.008Z"
   },
   {
    "duration": 3,
    "start_time": "2024-12-19T16:02:58.311Z"
   },
   {
    "duration": 4,
    "start_time": "2024-12-19T16:02:58.316Z"
   },
   {
    "duration": 12,
    "start_time": "2024-12-19T16:02:58.322Z"
   },
   {
    "duration": 235,
    "start_time": "2024-12-19T16:02:58.336Z"
   },
   {
    "duration": 7,
    "start_time": "2024-12-19T16:02:58.572Z"
   },
   {
    "duration": 8,
    "start_time": "2024-12-19T16:02:58.580Z"
   },
   {
    "duration": 4,
    "start_time": "2024-12-19T16:02:58.590Z"
   },
   {
    "duration": 3,
    "start_time": "2024-12-19T16:02:58.596Z"
   },
   {
    "duration": 3,
    "start_time": "2024-12-19T16:02:58.605Z"
   },
   {
    "duration": 264,
    "start_time": "2024-12-19T16:02:58.610Z"
   },
   {
    "duration": 14,
    "start_time": "2024-12-19T16:02:58.876Z"
   },
   {
    "duration": 6,
    "start_time": "2024-12-19T16:02:58.892Z"
   },
   {
    "duration": 4,
    "start_time": "2024-12-19T16:02:58.899Z"
   },
   {
    "duration": 176,
    "start_time": "2024-12-19T16:02:58.905Z"
   },
   {
    "duration": 20,
    "start_time": "2024-12-19T16:02:59.086Z"
   },
   {
    "duration": 4,
    "start_time": "2024-12-19T16:02:59.108Z"
   },
   {
    "duration": 3,
    "start_time": "2024-12-19T16:02:59.115Z"
   },
   {
    "duration": 4,
    "start_time": "2024-12-19T16:02:59.119Z"
   },
   {
    "duration": 5,
    "start_time": "2024-12-19T16:02:59.125Z"
   },
   {
    "duration": 4,
    "start_time": "2024-12-19T16:02:59.131Z"
   },
   {
    "duration": 3,
    "start_time": "2024-12-19T16:02:59.138Z"
   },
   {
    "duration": 4,
    "start_time": "2024-12-19T16:02:59.142Z"
   },
   {
    "duration": 44,
    "start_time": "2024-12-19T16:02:59.147Z"
   }
  ],
  "kernelspec": {
   "display_name": "Python 3 (ipykernel)",
   "language": "python",
   "name": "python3"
  },
  "language_info": {
   "codemirror_mode": {
    "name": "ipython",
    "version": 3
   },
   "file_extension": ".py",
   "mimetype": "text/x-python",
   "name": "python",
   "nbconvert_exporter": "python",
   "pygments_lexer": "ipython3",
   "version": "3.10.4"
  },
  "toc": {
   "base_numbering": 1,
   "nav_menu": {},
   "number_sections": true,
   "sideBar": true,
   "skip_h1_title": true,
   "title_cell": "Table of Contents",
   "title_sidebar": "Contents",
   "toc_cell": false,
   "toc_position": {},
   "toc_section_display": true,
   "toc_window_display": false
  }
 },
 "nbformat": 4,
 "nbformat_minor": 2
}
