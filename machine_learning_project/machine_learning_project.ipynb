{
 "cells": [
  {
   "cell_type": "markdown",
   "metadata": {},
   "source": [
    "__Developing a model that will pick the right mobile plan__"
   ]
  },
  {
   "cell_type": "markdown",
   "metadata": {},
   "source": [
    "_The goal of this project is to explore datasets, find the best model with the best hyperparameters that will pick the right mobile plan for users of the mobile carrier._  \n",
    "\n",
    "_To do this we'll:_  \n",
    "* _preprocess the data identifying and filling in missing values, identifying and remove duplicate values,_ \n",
    "* _split the source data into a training set, a validation set, and a test set,_ \n",
    "* _try classifiers on the validation set:_  \n",
    "    * _DecisionTreeClassifier with various max_depth hyperparameter,_  \n",
    "    * _RandomForestClassifier with various n_estimators and max_depth hyperparameters,_  \n",
    "    * _LogisticRegression with various solver hyperparameter,_\n",
    "* _use the best hyperparameter on the test set,_  \n",
    "* _make conclusions._"
   ]
  },
  {
   "cell_type": "code",
   "execution_count": 1,
   "metadata": {},
   "outputs": [],
   "source": [
    "# importing libraries: pandas, train_test_split, mean_squared_error\n",
    "import pandas as pd\n",
    "from sklearn.model_selection import train_test_split\n",
    "from sklearn.metrics import mean_squared_error\n",
    "from sklearn.tree import DecisionTreeClassifier\n",
    "from sklearn.ensemble import RandomForestClassifier\n",
    "from sklearn.linear_model import LogisticRegression\n",
    "from sklearn.dummy import DummyClassifier"
   ]
  },
  {
   "cell_type": "code",
   "execution_count": 2,
   "metadata": {},
   "outputs": [],
   "source": [
    "# loading dataframe\n",
    "users_behavior = pd.read_csv('users_behavior.csv')"
   ]
  },
  {
   "cell_type": "code",
   "execution_count": 3,
   "metadata": {},
   "outputs": [],
   "source": [
    "# saving raw data\n",
    "users_behavior_raw = users_behavior"
   ]
  },
  {
   "cell_type": "code",
   "execution_count": 4,
   "metadata": {},
   "outputs": [],
   "source": [
    "# creating function to get info of dataframe\n",
    "def get_info(df):\n",
    "    display(df.head(10))\n",
    "    df.info()"
   ]
  },
  {
   "cell_type": "code",
   "execution_count": 5,
   "metadata": {},
   "outputs": [
    {
     "data": {
      "text/html": [
       "<div>\n",
       "<style scoped>\n",
       "    .dataframe tbody tr th:only-of-type {\n",
       "        vertical-align: middle;\n",
       "    }\n",
       "\n",
       "    .dataframe tbody tr th {\n",
       "        vertical-align: top;\n",
       "    }\n",
       "\n",
       "    .dataframe thead th {\n",
       "        text-align: right;\n",
       "    }\n",
       "</style>\n",
       "<table border=\"1\" class=\"dataframe\">\n",
       "  <thead>\n",
       "    <tr style=\"text-align: right;\">\n",
       "      <th></th>\n",
       "      <th>calls</th>\n",
       "      <th>minutes</th>\n",
       "      <th>messages</th>\n",
       "      <th>mb_used</th>\n",
       "      <th>is_ultra</th>\n",
       "    </tr>\n",
       "  </thead>\n",
       "  <tbody>\n",
       "    <tr>\n",
       "      <th>0</th>\n",
       "      <td>40.0</td>\n",
       "      <td>311.90</td>\n",
       "      <td>83.0</td>\n",
       "      <td>19915.42</td>\n",
       "      <td>0</td>\n",
       "    </tr>\n",
       "    <tr>\n",
       "      <th>1</th>\n",
       "      <td>85.0</td>\n",
       "      <td>516.75</td>\n",
       "      <td>56.0</td>\n",
       "      <td>22696.96</td>\n",
       "      <td>0</td>\n",
       "    </tr>\n",
       "    <tr>\n",
       "      <th>2</th>\n",
       "      <td>77.0</td>\n",
       "      <td>467.66</td>\n",
       "      <td>86.0</td>\n",
       "      <td>21060.45</td>\n",
       "      <td>0</td>\n",
       "    </tr>\n",
       "    <tr>\n",
       "      <th>3</th>\n",
       "      <td>106.0</td>\n",
       "      <td>745.53</td>\n",
       "      <td>81.0</td>\n",
       "      <td>8437.39</td>\n",
       "      <td>1</td>\n",
       "    </tr>\n",
       "    <tr>\n",
       "      <th>4</th>\n",
       "      <td>66.0</td>\n",
       "      <td>418.74</td>\n",
       "      <td>1.0</td>\n",
       "      <td>14502.75</td>\n",
       "      <td>0</td>\n",
       "    </tr>\n",
       "    <tr>\n",
       "      <th>5</th>\n",
       "      <td>58.0</td>\n",
       "      <td>344.56</td>\n",
       "      <td>21.0</td>\n",
       "      <td>15823.37</td>\n",
       "      <td>0</td>\n",
       "    </tr>\n",
       "    <tr>\n",
       "      <th>6</th>\n",
       "      <td>57.0</td>\n",
       "      <td>431.64</td>\n",
       "      <td>20.0</td>\n",
       "      <td>3738.90</td>\n",
       "      <td>1</td>\n",
       "    </tr>\n",
       "    <tr>\n",
       "      <th>7</th>\n",
       "      <td>15.0</td>\n",
       "      <td>132.40</td>\n",
       "      <td>6.0</td>\n",
       "      <td>21911.60</td>\n",
       "      <td>0</td>\n",
       "    </tr>\n",
       "    <tr>\n",
       "      <th>8</th>\n",
       "      <td>7.0</td>\n",
       "      <td>43.39</td>\n",
       "      <td>3.0</td>\n",
       "      <td>2538.67</td>\n",
       "      <td>1</td>\n",
       "    </tr>\n",
       "    <tr>\n",
       "      <th>9</th>\n",
       "      <td>90.0</td>\n",
       "      <td>665.41</td>\n",
       "      <td>38.0</td>\n",
       "      <td>17358.61</td>\n",
       "      <td>0</td>\n",
       "    </tr>\n",
       "  </tbody>\n",
       "</table>\n",
       "</div>"
      ],
      "text/plain": [
       "   calls  minutes  messages   mb_used  is_ultra\n",
       "0   40.0   311.90      83.0  19915.42         0\n",
       "1   85.0   516.75      56.0  22696.96         0\n",
       "2   77.0   467.66      86.0  21060.45         0\n",
       "3  106.0   745.53      81.0   8437.39         1\n",
       "4   66.0   418.74       1.0  14502.75         0\n",
       "5   58.0   344.56      21.0  15823.37         0\n",
       "6   57.0   431.64      20.0   3738.90         1\n",
       "7   15.0   132.40       6.0  21911.60         0\n",
       "8    7.0    43.39       3.0   2538.67         1\n",
       "9   90.0   665.41      38.0  17358.61         0"
      ]
     },
     "metadata": {},
     "output_type": "display_data"
    },
    {
     "name": "stdout",
     "output_type": "stream",
     "text": [
      "<class 'pandas.core.frame.DataFrame'>\n",
      "RangeIndex: 3214 entries, 0 to 3213\n",
      "Data columns (total 5 columns):\n",
      " #   Column    Non-Null Count  Dtype  \n",
      "---  ------    --------------  -----  \n",
      " 0   calls     3214 non-null   float64\n",
      " 1   minutes   3214 non-null   float64\n",
      " 2   messages  3214 non-null   float64\n",
      " 3   mb_used   3214 non-null   float64\n",
      " 4   is_ultra  3214 non-null   int64  \n",
      "dtypes: float64(4), int64(1)\n",
      "memory usage: 125.7 KB\n"
     ]
    }
   ],
   "source": [
    "get_info(users_behavior)"
   ]
  },
  {
   "cell_type": "markdown",
   "metadata": {},
   "source": [
    "__Checking for missing values__"
   ]
  },
  {
   "cell_type": "code",
   "execution_count": 6,
   "metadata": {},
   "outputs": [
    {
     "name": "stdout",
     "output_type": "stream",
     "text": [
      "calls       0\n",
      "minutes     0\n",
      "messages    0\n",
      "mb_used     0\n",
      "is_ultra    0\n",
      "dtype: int64\n"
     ]
    }
   ],
   "source": [
    "# checking for missing values\n",
    "print(users_behavior.isna().sum())"
   ]
  },
  {
   "cell_type": "markdown",
   "metadata": {},
   "source": [
    "_No missing values_"
   ]
  },
  {
   "cell_type": "markdown",
   "metadata": {},
   "source": [
    "__Checking for duplicates__"
   ]
  },
  {
   "cell_type": "code",
   "execution_count": 7,
   "metadata": {},
   "outputs": [
    {
     "name": "stdout",
     "output_type": "stream",
     "text": [
      "0\n"
     ]
    }
   ],
   "source": [
    "# checking for duplicated rows\n",
    "print(users_behavior.duplicated().sum())"
   ]
  },
  {
   "cell_type": "markdown",
   "metadata": {},
   "source": [
    "_No duplicates_"
   ]
  },
  {
   "cell_type": "code",
   "execution_count": 8,
   "metadata": {},
   "outputs": [],
   "source": [
    "# changing the types of the columns\n",
    "users_behavior['calls'] = users_behavior['calls'].astype('int64')\n",
    "users_behavior['messages'] = users_behavior['messages'].astype('int64')\n",
    "users_behavior['is_ultra'] = users_behavior['is_ultra'].astype('category')"
   ]
  },
  {
   "cell_type": "code",
   "execution_count": 9,
   "metadata": {},
   "outputs": [
    {
     "data": {
      "text/html": [
       "<div>\n",
       "<style scoped>\n",
       "    .dataframe tbody tr th:only-of-type {\n",
       "        vertical-align: middle;\n",
       "    }\n",
       "\n",
       "    .dataframe tbody tr th {\n",
       "        vertical-align: top;\n",
       "    }\n",
       "\n",
       "    .dataframe thead th {\n",
       "        text-align: right;\n",
       "    }\n",
       "</style>\n",
       "<table border=\"1\" class=\"dataframe\">\n",
       "  <thead>\n",
       "    <tr style=\"text-align: right;\">\n",
       "      <th></th>\n",
       "      <th>calls</th>\n",
       "      <th>minutes</th>\n",
       "      <th>messages</th>\n",
       "      <th>mb_used</th>\n",
       "      <th>is_ultra</th>\n",
       "    </tr>\n",
       "  </thead>\n",
       "  <tbody>\n",
       "    <tr>\n",
       "      <th>0</th>\n",
       "      <td>40</td>\n",
       "      <td>311.90</td>\n",
       "      <td>83</td>\n",
       "      <td>19915.42</td>\n",
       "      <td>0</td>\n",
       "    </tr>\n",
       "    <tr>\n",
       "      <th>1</th>\n",
       "      <td>85</td>\n",
       "      <td>516.75</td>\n",
       "      <td>56</td>\n",
       "      <td>22696.96</td>\n",
       "      <td>0</td>\n",
       "    </tr>\n",
       "    <tr>\n",
       "      <th>2</th>\n",
       "      <td>77</td>\n",
       "      <td>467.66</td>\n",
       "      <td>86</td>\n",
       "      <td>21060.45</td>\n",
       "      <td>0</td>\n",
       "    </tr>\n",
       "    <tr>\n",
       "      <th>3</th>\n",
       "      <td>106</td>\n",
       "      <td>745.53</td>\n",
       "      <td>81</td>\n",
       "      <td>8437.39</td>\n",
       "      <td>1</td>\n",
       "    </tr>\n",
       "    <tr>\n",
       "      <th>4</th>\n",
       "      <td>66</td>\n",
       "      <td>418.74</td>\n",
       "      <td>1</td>\n",
       "      <td>14502.75</td>\n",
       "      <td>0</td>\n",
       "    </tr>\n",
       "    <tr>\n",
       "      <th>5</th>\n",
       "      <td>58</td>\n",
       "      <td>344.56</td>\n",
       "      <td>21</td>\n",
       "      <td>15823.37</td>\n",
       "      <td>0</td>\n",
       "    </tr>\n",
       "    <tr>\n",
       "      <th>6</th>\n",
       "      <td>57</td>\n",
       "      <td>431.64</td>\n",
       "      <td>20</td>\n",
       "      <td>3738.90</td>\n",
       "      <td>1</td>\n",
       "    </tr>\n",
       "    <tr>\n",
       "      <th>7</th>\n",
       "      <td>15</td>\n",
       "      <td>132.40</td>\n",
       "      <td>6</td>\n",
       "      <td>21911.60</td>\n",
       "      <td>0</td>\n",
       "    </tr>\n",
       "    <tr>\n",
       "      <th>8</th>\n",
       "      <td>7</td>\n",
       "      <td>43.39</td>\n",
       "      <td>3</td>\n",
       "      <td>2538.67</td>\n",
       "      <td>1</td>\n",
       "    </tr>\n",
       "    <tr>\n",
       "      <th>9</th>\n",
       "      <td>90</td>\n",
       "      <td>665.41</td>\n",
       "      <td>38</td>\n",
       "      <td>17358.61</td>\n",
       "      <td>0</td>\n",
       "    </tr>\n",
       "  </tbody>\n",
       "</table>\n",
       "</div>"
      ],
      "text/plain": [
       "   calls  minutes  messages   mb_used is_ultra\n",
       "0     40   311.90        83  19915.42        0\n",
       "1     85   516.75        56  22696.96        0\n",
       "2     77   467.66        86  21060.45        0\n",
       "3    106   745.53        81   8437.39        1\n",
       "4     66   418.74         1  14502.75        0\n",
       "5     58   344.56        21  15823.37        0\n",
       "6     57   431.64        20   3738.90        1\n",
       "7     15   132.40         6  21911.60        0\n",
       "8      7    43.39         3   2538.67        1\n",
       "9     90   665.41        38  17358.61        0"
      ]
     },
     "metadata": {},
     "output_type": "display_data"
    },
    {
     "name": "stdout",
     "output_type": "stream",
     "text": [
      "<class 'pandas.core.frame.DataFrame'>\n",
      "RangeIndex: 3214 entries, 0 to 3213\n",
      "Data columns (total 5 columns):\n",
      " #   Column    Non-Null Count  Dtype   \n",
      "---  ------    --------------  -----   \n",
      " 0   calls     3214 non-null   int64   \n",
      " 1   minutes   3214 non-null   float64 \n",
      " 2   messages  3214 non-null   int64   \n",
      " 3   mb_used   3214 non-null   float64 \n",
      " 4   is_ultra  3214 non-null   category\n",
      "dtypes: category(1), float64(2), int64(2)\n",
      "memory usage: 103.8 KB\n"
     ]
    }
   ],
   "source": [
    "get_info(users_behavior)"
   ]
  },
  {
   "cell_type": "markdown",
   "metadata": {},
   "source": [
    "__Data preparing ended__"
   ]
  },
  {
   "cell_type": "code",
   "execution_count": 10,
   "metadata": {},
   "outputs": [],
   "source": [
    "# splitting the source data into a training set (70%), a validation set (15%), and a test set (15%)\n",
    "users_behavior_train, users_behavior_valid = train_test_split(users_behavior, test_size = 0.3, random_state = 101010)\n",
    "users_behavior_valid, users_behavior_test = train_test_split(users_behavior_valid, test_size = 0.5, random_state = 101010)"
   ]
  },
  {
   "cell_type": "code",
   "execution_count": 11,
   "metadata": {},
   "outputs": [
    {
     "name": "stdout",
     "output_type": "stream",
     "text": [
      "<class 'pandas.core.frame.DataFrame'>\n",
      "Index: 2249 entries, 524 to 2494\n",
      "Data columns (total 5 columns):\n",
      " #   Column    Non-Null Count  Dtype   \n",
      "---  ------    --------------  -----   \n",
      " 0   calls     2249 non-null   int64   \n",
      " 1   minutes   2249 non-null   float64 \n",
      " 2   messages  2249 non-null   int64   \n",
      " 3   mb_used   2249 non-null   float64 \n",
      " 4   is_ultra  2249 non-null   category\n",
      "dtypes: category(1), float64(2), int64(2)\n",
      "memory usage: 90.2 KB\n",
      "\n",
      "<class 'pandas.core.frame.DataFrame'>\n",
      "Index: 482 entries, 107 to 3207\n",
      "Data columns (total 5 columns):\n",
      " #   Column    Non-Null Count  Dtype   \n",
      "---  ------    --------------  -----   \n",
      " 0   calls     482 non-null    int64   \n",
      " 1   minutes   482 non-null    float64 \n",
      " 2   messages  482 non-null    int64   \n",
      " 3   mb_used   482 non-null    float64 \n",
      " 4   is_ultra  482 non-null    category\n",
      "dtypes: category(1), float64(2), int64(2)\n",
      "memory usage: 19.4 KB\n",
      "\n",
      "<class 'pandas.core.frame.DataFrame'>\n",
      "Index: 483 entries, 37 to 1668\n",
      "Data columns (total 5 columns):\n",
      " #   Column    Non-Null Count  Dtype   \n",
      "---  ------    --------------  -----   \n",
      " 0   calls     483 non-null    int64   \n",
      " 1   minutes   483 non-null    float64 \n",
      " 2   messages  483 non-null    int64   \n",
      " 3   mb_used   483 non-null    float64 \n",
      " 4   is_ultra  483 non-null    category\n",
      "dtypes: category(1), float64(2), int64(2)\n",
      "memory usage: 19.5 KB\n"
     ]
    }
   ],
   "source": [
    "users_behavior_train.info()\n",
    "print()\n",
    "users_behavior_valid.info()\n",
    "print()\n",
    "users_behavior_test.info()"
   ]
  },
  {
   "cell_type": "code",
   "execution_count": 12,
   "metadata": {},
   "outputs": [],
   "source": [
    "# splitting the dataframes into a features and target\n",
    "users_behavior_train_features = users_behavior_train.drop(['is_ultra'], axis = 1)\n",
    "users_behavior_train_target = users_behavior_train['is_ultra']\n",
    "users_behavior_valid_features = users_behavior_valid.drop(['is_ultra'], axis = 1)\n",
    "users_behavior_valid_target = users_behavior_valid['is_ultra']\n",
    "users_behavior_test_features = users_behavior_test.drop(['is_ultra'], axis = 1)\n",
    "users_behavior_test_target = users_behavior_test['is_ultra']"
   ]
  },
  {
   "cell_type": "code",
   "execution_count": 13,
   "metadata": {},
   "outputs": [
    {
     "name": "stdout",
     "output_type": "stream",
     "text": [
      "Accuracy of the best model (DecisionTreeClassifier) on the validation set (max_depth = 8): 0.8049792531120332\n"
     ]
    }
   ],
   "source": [
    "# finding the best accuracy of the model with DecisionTreeClassifier with the max_depth from 1 to 20 on the validation set\n",
    "best_score = 0\n",
    "best_depth = 0\n",
    "for depth in range(1, 21):\n",
    "    model = DecisionTreeClassifier(max_depth = depth, random_state = 101010)\n",
    "    model.fit(users_behavior_train_features, users_behavior_train_target)\n",
    "    score = model.score(users_behavior_valid_features, users_behavior_valid_target)\n",
    "    if score > best_score:\n",
    "        best_score = score \n",
    "        best_depth = depth\n",
    "print('Accuracy of the best model (DecisionTreeClassifier) on the validation set (max_depth = {}): {}'.format(best_depth, best_score))"
   ]
  },
  {
   "cell_type": "code",
   "execution_count": 14,
   "metadata": {},
   "outputs": [
    {
     "name": "stdout",
     "output_type": "stream",
     "text": [
      "Accuracy of the best model (DecisionTreeClassifier) on the test set (max_depth = 8): 0.8157349896480331\n"
     ]
    }
   ],
   "source": [
    "# finding the accuracy of the model with DecisionTreeClassifier with the max_depth 8 on the test set\n",
    "model = DecisionTreeClassifier(max_depth = 8, random_state = 101010)\n",
    "model.fit(users_behavior_train_features, users_behavior_train_target)\n",
    "score = model.score(users_behavior_test_features, users_behavior_test_target)\n",
    "print('Accuracy of the best model (DecisionTreeClassifier) on the test set (max_depth = 8): {}'.format(score))"
   ]
  },
  {
   "cell_type": "code",
   "execution_count": 15,
   "metadata": {},
   "outputs": [
    {
     "name": "stdout",
     "output_type": "stream",
     "text": [
      "Accuracy of the best model (RandomForestClassifier) on the validation set (n_estimators = 5, max_depth = 12): 0.8298755186721992\n"
     ]
    }
   ],
   "source": [
    "# finding the best accuracy of the model with RandomForestClassifier with the max_depth from 1 to 20 and n_estimators from 1 to 20 on the validation set\n",
    "best_score = 0\n",
    "best_est = 0\n",
    "best_depth = 0\n",
    "for est in range(1, 21):\n",
    "    for depth in range(1, 21):\n",
    "        model = RandomForestClassifier(n_estimators = est, max_depth = depth, random_state = 101010)\n",
    "        model.fit(users_behavior_train_features, users_behavior_train_target)\n",
    "        score = model.score(users_behavior_valid_features, users_behavior_valid_target)\n",
    "        if score > best_score:\n",
    "            best_score = score \n",
    "            best_est = est\n",
    "            best_depth = depth\n",
    "print('Accuracy of the best model (RandomForestClassifier) on the validation set (n_estimators = {}, max_depth = {}): {}'.format(best_est, best_depth, best_score))"
   ]
  },
  {
   "cell_type": "code",
   "execution_count": 16,
   "metadata": {},
   "outputs": [
    {
     "name": "stdout",
     "output_type": "stream",
     "text": [
      "Accuracy of the best model (RandomForestClassifier) on the test set (n_estimators = 5, max_depth = 12): 0.8178053830227743\n"
     ]
    }
   ],
   "source": [
    "# finding the accuracy of the model with RandomForestClassifier with the n_estimators 5  and max_depth 12 on the test set\n",
    "model = RandomForestClassifier(n_estimators = 5, max_depth = 12, random_state = 101010)\n",
    "model.fit(users_behavior_train_features, users_behavior_train_target)\n",
    "score = model.score(users_behavior_test_features, users_behavior_test_target)\n",
    "print('Accuracy of the best model (RandomForestClassifier) on the test set (n_estimators = 5, max_depth = 12): {}'.format(score))"
   ]
  },
  {
   "cell_type": "code",
   "execution_count": 17,
   "metadata": {},
   "outputs": [
    {
     "name": "stdout",
     "output_type": "stream",
     "text": [
      "Accuracy of the best model (LogisticRegression) on the validation set (solver = newton-cg): 0.7614107883817427\n"
     ]
    },
    {
     "name": "stderr",
     "output_type": "stream",
     "text": [
      "C:\\Users\\Asus\\AppData\\Local\\Programs\\Python\\Python310\\lib\\site-packages\\sklearn\\linear_model\\_sag.py:348: ConvergenceWarning: The max_iter was reached which means the coef_ did not converge\n",
      "  warnings.warn(\n",
      "C:\\Users\\Asus\\AppData\\Local\\Programs\\Python\\Python310\\lib\\site-packages\\sklearn\\linear_model\\_sag.py:348: ConvergenceWarning: The max_iter was reached which means the coef_ did not converge\n",
      "  warnings.warn(\n"
     ]
    }
   ],
   "source": [
    "# finding the best accuracy of the model with LogisticRegression with the various solvers on the validation set\n",
    "best_score = 0\n",
    "best_solver = 0\n",
    "for solvers in ('liblinear', 'newton-cg', 'lbfgs', 'sag', 'saga'):\n",
    "    model = LogisticRegression(solver = solvers, random_state = 101010)\n",
    "    model.fit(users_behavior_train_features, users_behavior_train_target)\n",
    "    score = model.score(users_behavior_valid_features, users_behavior_valid_target)\n",
    "    if score > best_score:\n",
    "        best_score = score \n",
    "        best_solver = solvers\n",
    "print('Accuracy of the best model (LogisticRegression) on the validation set (solver = {}): {}'.format(best_solver, best_score));"
   ]
  },
  {
   "cell_type": "code",
   "execution_count": 18,
   "metadata": {},
   "outputs": [
    {
     "name": "stdout",
     "output_type": "stream",
     "text": [
      "Accuracy of the best model (LogisticRegression) on the validation set (solver = newton-cg): 0.7018633540372671\n"
     ]
    },
    {
     "name": "stderr",
     "output_type": "stream",
     "text": [
      "C:\\Users\\Asus\\AppData\\Local\\Programs\\Python\\Python310\\lib\\site-packages\\sklearn\\linear_model\\_sag.py:348: ConvergenceWarning: The max_iter was reached which means the coef_ did not converge\n",
      "  warnings.warn(\n"
     ]
    }
   ],
   "source": [
    "# finding the  accuracy of the model with LogisticRegression with the solver 'newton-cg' on the test set\n",
    "model = LogisticRegression(solver = solvers, random_state = 101010)\n",
    "model.fit(users_behavior_train_features, users_behavior_train_target)\n",
    "score = model.score(users_behavior_test_features, users_behavior_test_target)\n",
    "print('Accuracy of the best model (LogisticRegression) on the validation set (solver = newton-cg): {}'.format(score))"
   ]
  },
  {
   "cell_type": "markdown",
   "metadata": {},
   "source": [
    "_The best accuracy of the model on the validation and the test sets is with RandomForestClassifier (n_estimators = 5, max_depth = 12) : 0.829875518672199 and 0.8178053830227743._"
   ]
  },
  {
   "cell_type": "code",
   "execution_count": 19,
   "metadata": {},
   "outputs": [
    {
     "name": "stdout",
     "output_type": "stream",
     "text": [
      "Accuracy of the model (DummyClassifier) on the validation set: 0.6721991701244814\n"
     ]
    }
   ],
   "source": [
    "dummy_most_frequent = DummyClassifier(random_state=101010)\n",
    "dummy_most_frequent.fit(users_behavior_train_features, users_behavior_train_target)\n",
    "score = model.score(users_behavior_valid_features, users_behavior_valid_target)\n",
    "print('Accuracy of the model (DummyClassifier) on the validation set: {}'.format(score))"
   ]
  },
  {
   "cell_type": "markdown",
   "metadata": {},
   "source": [
    "_Accuracy of the model (DummyClassifier) on the validation set is lower then accuracy of the model on the validation and the test sets is with RandomForestClassifier (n_estimators = 5, max_depth = 12)_"
   ]
  }
 ],
 "metadata": {
  "ExecuteTimeLog": [
   {
    "duration": 5037,
    "start_time": "2024-05-27T16:26:46.190Z"
   },
   {
    "duration": 23,
    "start_time": "2024-05-27T16:29:09.897Z"
   },
   {
    "duration": 1404,
    "start_time": "2024-05-27T16:30:08.987Z"
   },
   {
    "duration": 12,
    "start_time": "2024-05-27T16:30:10.395Z"
   },
   {
    "duration": 20,
    "start_time": "2024-05-27T16:30:10.410Z"
   },
   {
    "duration": 4,
    "start_time": "2024-05-27T16:30:10.434Z"
   },
   {
    "duration": 29,
    "start_time": "2024-05-27T16:30:10.442Z"
   },
   {
    "duration": 327,
    "start_time": "2024-05-30T13:29:15.946Z"
   },
   {
    "duration": 5328,
    "start_time": "2024-05-30T13:29:22.910Z"
   },
   {
    "duration": 20,
    "start_time": "2024-05-30T13:29:28.242Z"
   },
   {
    "duration": 5,
    "start_time": "2024-05-30T13:29:28.265Z"
   },
   {
    "duration": 9,
    "start_time": "2024-05-30T13:29:28.274Z"
   },
   {
    "duration": 56,
    "start_time": "2024-05-30T13:29:28.287Z"
   },
   {
    "duration": 8,
    "start_time": "2024-05-30T13:29:28.346Z"
   },
   {
    "duration": 9,
    "start_time": "2024-05-30T13:30:05.196Z"
   },
   {
    "duration": 5,
    "start_time": "2024-05-30T13:31:24.465Z"
   },
   {
    "duration": 28,
    "start_time": "2024-05-30T13:31:33.245Z"
   },
   {
    "duration": 8,
    "start_time": "2024-05-30T13:37:03.918Z"
   },
   {
    "duration": 30,
    "start_time": "2024-05-30T13:37:06.710Z"
   },
   {
    "duration": 14,
    "start_time": "2024-05-30T13:37:45.228Z"
   },
   {
    "duration": 419,
    "start_time": "2024-05-30T13:41:51.654Z"
   },
   {
    "duration": 312,
    "start_time": "2024-05-30T13:43:35.741Z"
   },
   {
    "duration": 1310,
    "start_time": "2024-05-30T13:43:42.793Z"
   },
   {
    "duration": 17,
    "start_time": "2024-05-30T13:43:44.107Z"
   },
   {
    "duration": 4,
    "start_time": "2024-05-30T13:43:44.127Z"
   },
   {
    "duration": 5,
    "start_time": "2024-05-30T13:43:44.135Z"
   },
   {
    "duration": 78,
    "start_time": "2024-05-30T13:43:44.146Z"
   },
   {
    "duration": 8,
    "start_time": "2024-05-30T13:43:44.227Z"
   },
   {
    "duration": 7,
    "start_time": "2024-05-30T13:43:44.239Z"
   },
   {
    "duration": 9,
    "start_time": "2024-05-30T13:43:44.249Z"
   },
   {
    "duration": 79,
    "start_time": "2024-05-30T13:43:44.262Z"
   },
   {
    "duration": 460,
    "start_time": "2024-05-30T13:43:44.344Z"
   },
   {
    "duration": 8,
    "start_time": "2024-05-30T13:43:54.543Z"
   },
   {
    "duration": 8,
    "start_time": "2024-05-30T13:45:24.583Z"
   },
   {
    "duration": 40,
    "start_time": "2024-05-30T13:45:31.518Z"
   },
   {
    "duration": 10,
    "start_time": "2024-05-30T13:46:49.617Z"
   },
   {
    "duration": 50,
    "start_time": "2024-05-30T13:47:35.396Z"
   },
   {
    "duration": 9,
    "start_time": "2024-05-30T13:47:43.369Z"
   },
   {
    "duration": 38,
    "start_time": "2024-05-30T13:47:44.432Z"
   },
   {
    "duration": 9,
    "start_time": "2024-05-30T14:04:18.294Z"
   },
   {
    "duration": 41,
    "start_time": "2024-05-30T14:04:19.202Z"
   },
   {
    "duration": 4,
    "start_time": "2024-05-30T14:10:09.418Z"
   },
   {
    "duration": 1333,
    "start_time": "2024-05-30T14:10:55.604Z"
   },
   {
    "duration": 13,
    "start_time": "2024-05-30T14:10:56.941Z"
   },
   {
    "duration": 4,
    "start_time": "2024-05-30T14:10:56.958Z"
   },
   {
    "duration": 5,
    "start_time": "2024-05-30T14:10:56.967Z"
   },
   {
    "duration": 75,
    "start_time": "2024-05-30T14:10:56.976Z"
   },
   {
    "duration": 9,
    "start_time": "2024-05-30T14:10:57.054Z"
   },
   {
    "duration": 8,
    "start_time": "2024-05-30T14:10:57.067Z"
   },
   {
    "duration": 50,
    "start_time": "2024-05-30T14:10:57.080Z"
   },
   {
    "duration": 28,
    "start_time": "2024-05-30T14:10:57.134Z"
   },
   {
    "duration": 10,
    "start_time": "2024-05-30T14:10:57.167Z"
   },
   {
    "duration": 80,
    "start_time": "2024-05-30T14:10:57.180Z"
   },
   {
    "duration": 5,
    "start_time": "2024-05-30T14:10:57.263Z"
   },
   {
    "duration": 407,
    "start_time": "2024-05-30T14:11:14.976Z"
   },
   {
    "duration": 27,
    "start_time": "2024-05-30T14:11:24.353Z"
   },
   {
    "duration": 24,
    "start_time": "2024-05-30T14:11:38.614Z"
   },
   {
    "duration": 24,
    "start_time": "2024-05-30T14:11:52.623Z"
   },
   {
    "duration": 5,
    "start_time": "2024-05-30T14:12:01.425Z"
   },
   {
    "duration": 5,
    "start_time": "2024-05-30T14:12:02.285Z"
   },
   {
    "duration": 30,
    "start_time": "2024-05-30T14:12:03.283Z"
   },
   {
    "duration": 25,
    "start_time": "2024-05-30T14:12:15.200Z"
   },
   {
    "duration": 23,
    "start_time": "2024-05-30T14:12:52.042Z"
   },
   {
    "duration": 1271,
    "start_time": "2024-05-30T14:13:01.721Z"
   },
   {
    "duration": 13,
    "start_time": "2024-05-30T14:13:02.995Z"
   },
   {
    "duration": 4,
    "start_time": "2024-05-30T14:13:03.022Z"
   },
   {
    "duration": 4,
    "start_time": "2024-05-30T14:13:03.031Z"
   },
   {
    "duration": 37,
    "start_time": "2024-05-30T14:13:03.039Z"
   },
   {
    "duration": 49,
    "start_time": "2024-05-30T14:13:03.079Z"
   },
   {
    "duration": 9,
    "start_time": "2024-05-30T14:13:03.131Z"
   },
   {
    "duration": 9,
    "start_time": "2024-05-30T14:13:03.144Z"
   },
   {
    "duration": 82,
    "start_time": "2024-05-30T14:13:03.156Z"
   },
   {
    "duration": 9,
    "start_time": "2024-05-30T14:13:03.244Z"
   },
   {
    "duration": 74,
    "start_time": "2024-05-30T14:13:03.256Z"
   },
   {
    "duration": 6,
    "start_time": "2024-05-30T14:13:03.334Z"
   },
   {
    "duration": 7,
    "start_time": "2024-05-30T14:13:03.344Z"
   },
   {
    "duration": 497,
    "start_time": "2024-05-30T14:13:03.354Z"
   },
   {
    "duration": 0,
    "start_time": "2024-05-30T14:13:03.855Z"
   },
   {
    "duration": 5,
    "start_time": "2024-05-30T14:13:38.594Z"
   },
   {
    "duration": 19,
    "start_time": "2024-05-30T14:13:41.340Z"
   },
   {
    "duration": 945,
    "start_time": "2024-05-30T14:14:30.158Z"
   },
   {
    "duration": 449,
    "start_time": "2024-05-30T14:14:31.107Z"
   },
   {
    "duration": 0,
    "start_time": "2024-05-30T14:14:31.560Z"
   },
   {
    "duration": 0,
    "start_time": "2024-05-30T14:14:31.563Z"
   },
   {
    "duration": 0,
    "start_time": "2024-05-30T14:14:31.565Z"
   },
   {
    "duration": 0,
    "start_time": "2024-05-30T14:14:31.568Z"
   },
   {
    "duration": 0,
    "start_time": "2024-05-30T14:14:31.571Z"
   },
   {
    "duration": 0,
    "start_time": "2024-05-30T14:14:31.573Z"
   },
   {
    "duration": 0,
    "start_time": "2024-05-30T14:14:31.576Z"
   },
   {
    "duration": 0,
    "start_time": "2024-05-30T14:14:31.580Z"
   },
   {
    "duration": 0,
    "start_time": "2024-05-30T14:14:31.582Z"
   },
   {
    "duration": 0,
    "start_time": "2024-05-30T14:14:31.624Z"
   },
   {
    "duration": 0,
    "start_time": "2024-05-30T14:14:31.627Z"
   },
   {
    "duration": 0,
    "start_time": "2024-05-30T14:14:31.629Z"
   },
   {
    "duration": 0,
    "start_time": "2024-05-30T14:14:31.632Z"
   },
   {
    "duration": 0,
    "start_time": "2024-05-30T14:14:31.634Z"
   },
   {
    "duration": 0,
    "start_time": "2024-05-30T14:14:31.637Z"
   },
   {
    "duration": 1299,
    "start_time": "2024-05-30T14:14:56.077Z"
   },
   {
    "duration": 24,
    "start_time": "2024-05-30T14:14:57.381Z"
   },
   {
    "duration": 4,
    "start_time": "2024-05-30T14:14:57.408Z"
   },
   {
    "duration": 5,
    "start_time": "2024-05-30T14:14:57.426Z"
   },
   {
    "duration": 39,
    "start_time": "2024-05-30T14:14:57.439Z"
   },
   {
    "duration": 54,
    "start_time": "2024-05-30T14:14:57.481Z"
   },
   {
    "duration": 10,
    "start_time": "2024-05-30T14:14:57.541Z"
   },
   {
    "duration": 9,
    "start_time": "2024-05-30T14:14:57.554Z"
   },
   {
    "duration": 68,
    "start_time": "2024-05-30T14:14:57.567Z"
   },
   {
    "duration": 11,
    "start_time": "2024-05-30T14:14:57.639Z"
   },
   {
    "duration": 76,
    "start_time": "2024-05-30T14:14:57.653Z"
   },
   {
    "duration": 7,
    "start_time": "2024-05-30T14:14:57.733Z"
   },
   {
    "duration": 0,
    "start_time": "2024-05-30T14:14:57.747Z"
   },
   {
    "duration": 0,
    "start_time": "2024-05-30T14:14:57.750Z"
   },
   {
    "duration": 0,
    "start_time": "2024-05-30T14:14:57.753Z"
   },
   {
    "duration": 0,
    "start_time": "2024-05-30T14:14:57.755Z"
   },
   {
    "duration": 0,
    "start_time": "2024-05-30T14:14:57.759Z"
   },
   {
    "duration": 4,
    "start_time": "2024-05-30T14:15:10.785Z"
   },
   {
    "duration": 5,
    "start_time": "2024-05-30T14:15:12.371Z"
   },
   {
    "duration": 416,
    "start_time": "2024-05-30T14:15:13.314Z"
   },
   {
    "duration": 24,
    "start_time": "2024-05-30T14:15:14.721Z"
   },
   {
    "duration": 4,
    "start_time": "2024-05-30T14:15:28.280Z"
   },
   {
    "duration": 5,
    "start_time": "2024-05-30T14:15:28.988Z"
   },
   {
    "duration": 23,
    "start_time": "2024-05-30T14:15:31.961Z"
   },
   {
    "duration": 24,
    "start_time": "2024-05-30T14:15:35.239Z"
   },
   {
    "duration": 5,
    "start_time": "2024-05-30T14:15:50.850Z"
   },
   {
    "duration": 12,
    "start_time": "2024-05-30T14:15:51.509Z"
   },
   {
    "duration": 25,
    "start_time": "2024-05-30T14:16:04.229Z"
   },
   {
    "duration": 24,
    "start_time": "2024-05-30T14:16:22.599Z"
   },
   {
    "duration": 4,
    "start_time": "2024-05-30T14:17:29.357Z"
   },
   {
    "duration": 24,
    "start_time": "2024-05-30T14:17:33.712Z"
   },
   {
    "duration": 14,
    "start_time": "2024-05-30T14:18:02.466Z"
   },
   {
    "duration": 23,
    "start_time": "2024-05-30T14:18:07.216Z"
   },
   {
    "duration": 6,
    "start_time": "2024-05-30T14:18:48.877Z"
   },
   {
    "duration": 16,
    "start_time": "2024-05-30T14:18:52.053Z"
   },
   {
    "duration": 23,
    "start_time": "2024-05-30T14:19:08.134Z"
   },
   {
    "duration": 8,
    "start_time": "2024-05-30T14:29:28.597Z"
   },
   {
    "duration": 1218,
    "start_time": "2024-06-04T10:07:02.145Z"
   },
   {
    "duration": 19,
    "start_time": "2024-06-04T10:07:03.368Z"
   },
   {
    "duration": 11,
    "start_time": "2024-06-04T10:07:03.391Z"
   },
   {
    "duration": 4,
    "start_time": "2024-06-04T10:07:03.406Z"
   },
   {
    "duration": 33,
    "start_time": "2024-06-04T10:07:03.416Z"
   },
   {
    "duration": 49,
    "start_time": "2024-06-04T10:07:03.453Z"
   },
   {
    "duration": 8,
    "start_time": "2024-06-04T10:07:03.505Z"
   },
   {
    "duration": 8,
    "start_time": "2024-06-04T10:07:03.516Z"
   },
   {
    "duration": 26,
    "start_time": "2024-06-04T10:07:03.526Z"
   },
   {
    "duration": 47,
    "start_time": "2024-06-04T10:07:03.555Z"
   },
   {
    "duration": 32,
    "start_time": "2024-06-04T10:07:03.605Z"
   },
   {
    "duration": 8,
    "start_time": "2024-06-04T10:07:03.641Z"
   },
   {
    "duration": 450,
    "start_time": "2024-06-04T10:07:03.653Z"
   },
   {
    "duration": 359,
    "start_time": "2024-06-04T10:08:12.044Z"
   },
   {
    "duration": 397,
    "start_time": "2024-06-04T10:08:43.643Z"
   },
   {
    "duration": 397,
    "start_time": "2024-06-04T10:12:08.982Z"
   },
   {
    "duration": 725,
    "start_time": "2024-06-04T10:12:21.523Z"
   },
   {
    "duration": 1266,
    "start_time": "2024-06-04T10:12:29.344Z"
   },
   {
    "duration": 1256,
    "start_time": "2024-06-04T10:14:53.485Z"
   },
   {
    "duration": 1258,
    "start_time": "2024-06-04T10:15:02.320Z"
   },
   {
    "duration": 1231,
    "start_time": "2024-06-04T10:16:33.995Z"
   },
   {
    "duration": 12,
    "start_time": "2024-06-04T10:16:35.230Z"
   },
   {
    "duration": 4,
    "start_time": "2024-06-04T10:16:35.244Z"
   },
   {
    "duration": 5,
    "start_time": "2024-06-04T10:16:35.252Z"
   },
   {
    "duration": 59,
    "start_time": "2024-06-04T10:16:35.263Z"
   },
   {
    "duration": 7,
    "start_time": "2024-06-04T10:16:35.325Z"
   },
   {
    "duration": 8,
    "start_time": "2024-06-04T10:16:35.335Z"
   },
   {
    "duration": 9,
    "start_time": "2024-06-04T10:16:35.346Z"
   },
   {
    "duration": 68,
    "start_time": "2024-06-04T10:16:35.358Z"
   },
   {
    "duration": 10,
    "start_time": "2024-06-04T10:16:35.429Z"
   },
   {
    "duration": 77,
    "start_time": "2024-06-04T10:16:35.442Z"
   },
   {
    "duration": 8,
    "start_time": "2024-06-04T10:16:35.522Z"
   },
   {
    "duration": 1359,
    "start_time": "2024-06-04T10:16:35.534Z"
   },
   {
    "duration": 320,
    "start_time": "2024-06-04T11:47:09.734Z"
   },
   {
    "duration": 1212,
    "start_time": "2024-06-04T11:47:16.802Z"
   },
   {
    "duration": 16,
    "start_time": "2024-06-04T11:47:18.017Z"
   },
   {
    "duration": 3,
    "start_time": "2024-06-04T11:47:18.036Z"
   },
   {
    "duration": 7,
    "start_time": "2024-06-04T11:47:18.042Z"
   },
   {
    "duration": 30,
    "start_time": "2024-06-04T11:47:18.054Z"
   },
   {
    "duration": 47,
    "start_time": "2024-06-04T11:47:18.086Z"
   },
   {
    "duration": 17,
    "start_time": "2024-06-04T11:47:18.136Z"
   },
   {
    "duration": 7,
    "start_time": "2024-06-04T11:47:18.156Z"
   },
   {
    "duration": 23,
    "start_time": "2024-06-04T11:47:18.166Z"
   },
   {
    "duration": 41,
    "start_time": "2024-06-04T11:47:18.192Z"
   },
   {
    "duration": 31,
    "start_time": "2024-06-04T11:47:18.236Z"
   },
   {
    "duration": 7,
    "start_time": "2024-06-04T11:47:18.270Z"
   },
   {
    "duration": 1026,
    "start_time": "2024-06-04T11:47:18.282Z"
   },
   {
    "duration": 637,
    "start_time": "2024-06-04T11:47:40.104Z"
   },
   {
    "duration": 696,
    "start_time": "2024-06-04T11:47:44.453Z"
   },
   {
    "duration": 750,
    "start_time": "2024-06-04T11:47:49.321Z"
   },
   {
    "duration": 1014,
    "start_time": "2024-06-04T11:47:53.747Z"
   },
   {
    "duration": 992,
    "start_time": "2024-06-04T11:48:15.568Z"
   },
   {
    "duration": 974,
    "start_time": "2024-06-04T11:48:20.815Z"
   },
   {
    "duration": 1002,
    "start_time": "2024-06-04T11:48:25.348Z"
   },
   {
    "duration": 218,
    "start_time": "2024-06-04T11:54:46.201Z"
   },
   {
    "duration": 175071,
    "start_time": "2024-06-04T11:55:09.535Z"
   },
   {
    "duration": 1229,
    "start_time": "2024-06-04T11:58:18.464Z"
   },
   {
    "duration": 13,
    "start_time": "2024-06-04T11:58:19.696Z"
   },
   {
    "duration": 4,
    "start_time": "2024-06-04T11:58:19.712Z"
   },
   {
    "duration": 5,
    "start_time": "2024-06-04T11:58:19.731Z"
   },
   {
    "duration": 31,
    "start_time": "2024-06-04T11:58:19.742Z"
   },
   {
    "duration": 7,
    "start_time": "2024-06-04T11:58:19.776Z"
   },
   {
    "duration": 49,
    "start_time": "2024-06-04T11:58:19.786Z"
   },
   {
    "duration": 7,
    "start_time": "2024-06-04T11:58:19.839Z"
   },
   {
    "duration": 25,
    "start_time": "2024-06-04T11:58:19.849Z"
   },
   {
    "duration": 9,
    "start_time": "2024-06-04T11:58:19.877Z"
   },
   {
    "duration": 72,
    "start_time": "2024-06-04T11:58:19.889Z"
   },
   {
    "duration": 9,
    "start_time": "2024-06-04T11:58:19.964Z"
   },
   {
    "duration": 80390,
    "start_time": "2024-06-04T11:58:19.977Z"
   },
   {
    "duration": 18335,
    "start_time": "2024-06-04T12:00:00.868Z"
   },
   {
    "duration": 483,
    "start_time": "2024-06-04T12:00:34.438Z"
   },
   {
    "duration": 1308,
    "start_time": "2024-06-04T12:00:39.210Z"
   },
   {
    "duration": 17766,
    "start_time": "2024-06-04T12:01:07.170Z"
   },
   {
    "duration": 0,
    "start_time": "2024-06-04T12:01:24.940Z"
   },
   {
    "duration": 18360,
    "start_time": "2024-06-04T12:01:33.708Z"
   },
   {
    "duration": 105,
    "start_time": "2024-06-04T12:01:52.071Z"
   },
   {
    "duration": 92,
    "start_time": "2024-06-04T12:02:34.110Z"
   },
   {
    "duration": 18420,
    "start_time": "2024-06-04T12:07:37.871Z"
   },
   {
    "duration": 106,
    "start_time": "2024-06-04T12:07:56.295Z"
   },
   {
    "duration": 6747,
    "start_time": "2024-06-04T12:08:08.151Z"
   },
   {
    "duration": 18480,
    "start_time": "2024-06-04T12:08:19.642Z"
   },
   {
    "duration": 18717,
    "start_time": "2024-06-04T12:10:18.471Z"
   },
   {
    "duration": 260,
    "start_time": "2024-06-04T12:11:20.725Z"
   },
   {
    "duration": 18479,
    "start_time": "2024-06-04T12:11:22.455Z"
   },
   {
    "duration": 258,
    "start_time": "2024-06-04T12:20:01.382Z"
   },
   {
    "duration": 18231,
    "start_time": "2024-06-04T12:20:02.345Z"
   },
   {
    "duration": 1221,
    "start_time": "2024-06-04T12:25:32.684Z"
   },
   {
    "duration": 14,
    "start_time": "2024-06-04T12:25:33.908Z"
   },
   {
    "duration": 9,
    "start_time": "2024-06-04T12:25:33.925Z"
   },
   {
    "duration": 3,
    "start_time": "2024-06-04T12:25:33.938Z"
   },
   {
    "duration": 36,
    "start_time": "2024-06-04T12:25:33.946Z"
   },
   {
    "duration": 6,
    "start_time": "2024-06-04T12:25:33.987Z"
   },
   {
    "duration": 8,
    "start_time": "2024-06-04T12:25:34.037Z"
   },
   {
    "duration": 9,
    "start_time": "2024-06-04T12:25:34.048Z"
   },
   {
    "duration": 28,
    "start_time": "2024-06-04T12:25:34.060Z"
   },
   {
    "duration": 46,
    "start_time": "2024-06-04T12:25:34.091Z"
   },
   {
    "duration": 41,
    "start_time": "2024-06-04T12:25:34.140Z"
   },
   {
    "duration": 10,
    "start_time": "2024-06-04T12:25:34.185Z"
   },
   {
    "duration": 299,
    "start_time": "2024-06-04T12:25:34.200Z"
   },
   {
    "duration": 18786,
    "start_time": "2024-06-04T12:25:34.505Z"
   },
   {
    "duration": 249,
    "start_time": "2024-06-04T12:27:13.214Z"
   },
   {
    "duration": 18155,
    "start_time": "2024-06-04T12:27:37.900Z"
   },
   {
    "duration": 857,
    "start_time": "2024-06-04T12:32:01.363Z"
   },
   {
    "duration": 313,
    "start_time": "2024-06-04T12:32:27.265Z"
   },
   {
    "duration": 296,
    "start_time": "2024-06-04T12:32:45.541Z"
   },
   {
    "duration": 9,
    "start_time": "2024-06-04T12:33:02.905Z"
   },
   {
    "duration": 294,
    "start_time": "2024-06-04T12:33:07.644Z"
   },
   {
    "duration": 7,
    "start_time": "2024-06-04T12:33:49.308Z"
   },
   {
    "duration": 36,
    "start_time": "2024-06-04T12:34:07.531Z"
   },
   {
    "duration": 6,
    "start_time": "2024-06-04T12:34:42.655Z"
   },
   {
    "duration": 6,
    "start_time": "2024-06-04T12:35:13.020Z"
   },
   {
    "duration": 6,
    "start_time": "2024-06-04T12:35:22.631Z"
   },
   {
    "duration": 6,
    "start_time": "2024-06-04T12:35:32.430Z"
   },
   {
    "duration": 22,
    "start_time": "2024-06-04T12:35:47.420Z"
   },
   {
    "duration": 160,
    "start_time": "2024-06-04T12:35:58.957Z"
   },
   {
    "duration": 44,
    "start_time": "2024-06-04T12:36:20.624Z"
   },
   {
    "duration": 49,
    "start_time": "2024-06-04T12:36:33.740Z"
   },
   {
    "duration": 53,
    "start_time": "2024-06-04T12:36:37.697Z"
   },
   {
    "duration": 55,
    "start_time": "2024-06-04T12:37:01.433Z"
   },
   {
    "duration": 52,
    "start_time": "2024-06-04T12:37:06.785Z"
   },
   {
    "duration": 52,
    "start_time": "2024-06-04T12:37:11.645Z"
   },
   {
    "duration": 301,
    "start_time": "2024-06-04T12:37:31.579Z"
   },
   {
    "duration": 20,
    "start_time": "2024-06-04T12:37:38.063Z"
   },
   {
    "duration": 158,
    "start_time": "2024-06-04T12:37:39.376Z"
   },
   {
    "duration": 54,
    "start_time": "2024-06-04T12:37:52.667Z"
   },
   {
    "duration": 53,
    "start_time": "2024-06-04T12:37:53.704Z"
   },
   {
    "duration": 57,
    "start_time": "2024-06-04T12:38:26.085Z"
   },
   {
    "duration": 49,
    "start_time": "2024-06-04T12:38:29.093Z"
   },
   {
    "duration": 54,
    "start_time": "2024-06-04T12:38:29.949Z"
   },
   {
    "duration": 26,
    "start_time": "2024-06-04T12:38:53.440Z"
   },
   {
    "duration": 20,
    "start_time": "2024-06-04T12:39:00.851Z"
   },
   {
    "duration": 307,
    "start_time": "2024-06-04T12:39:29.402Z"
   },
   {
    "duration": 303,
    "start_time": "2024-06-04T12:39:41.633Z"
   },
   {
    "duration": 320,
    "start_time": "2024-06-04T12:40:32.362Z"
   },
   {
    "duration": 1237,
    "start_time": "2024-06-04T12:42:36.734Z"
   },
   {
    "duration": 13,
    "start_time": "2024-06-04T12:42:37.975Z"
   },
   {
    "duration": 4,
    "start_time": "2024-06-04T12:42:37.991Z"
   },
   {
    "duration": 4,
    "start_time": "2024-06-04T12:42:37.999Z"
   },
   {
    "duration": 55,
    "start_time": "2024-06-04T12:42:38.007Z"
   },
   {
    "duration": 7,
    "start_time": "2024-06-04T12:42:38.065Z"
   },
   {
    "duration": 8,
    "start_time": "2024-06-04T12:42:38.074Z"
   },
   {
    "duration": 48,
    "start_time": "2024-06-04T12:42:38.085Z"
   },
   {
    "duration": 25,
    "start_time": "2024-06-04T12:42:38.135Z"
   },
   {
    "duration": 8,
    "start_time": "2024-06-04T12:42:38.165Z"
   },
   {
    "duration": 66,
    "start_time": "2024-06-04T12:42:38.176Z"
   },
   {
    "duration": 9,
    "start_time": "2024-06-04T12:42:38.244Z"
   },
   {
    "duration": 275,
    "start_time": "2024-06-04T12:42:38.256Z"
   },
   {
    "duration": 267,
    "start_time": "2024-06-04T12:42:38.534Z"
   },
   {
    "duration": 18156,
    "start_time": "2024-06-04T12:42:38.803Z"
   },
   {
    "duration": 18129,
    "start_time": "2024-06-04T12:42:56.962Z"
   },
   {
    "duration": 343,
    "start_time": "2024-06-04T12:43:15.097Z"
   },
   {
    "duration": 317,
    "start_time": "2024-06-04T12:43:15.445Z"
   },
   {
    "duration": 1143,
    "start_time": "2024-06-04T12:45:20.095Z"
   },
   {
    "duration": 12,
    "start_time": "2024-06-04T12:45:21.242Z"
   },
   {
    "duration": 3,
    "start_time": "2024-06-04T12:45:21.257Z"
   },
   {
    "duration": 4,
    "start_time": "2024-06-04T12:45:21.264Z"
   },
   {
    "duration": 66,
    "start_time": "2024-06-04T12:45:21.271Z"
   },
   {
    "duration": 9,
    "start_time": "2024-06-04T12:45:21.340Z"
   },
   {
    "duration": 10,
    "start_time": "2024-06-04T12:45:21.353Z"
   },
   {
    "duration": 11,
    "start_time": "2024-06-04T12:45:21.366Z"
   },
   {
    "duration": 68,
    "start_time": "2024-06-04T12:45:21.381Z"
   },
   {
    "duration": 9,
    "start_time": "2024-06-04T12:45:21.455Z"
   },
   {
    "duration": 33,
    "start_time": "2024-06-04T12:45:21.469Z"
   },
   {
    "duration": 10,
    "start_time": "2024-06-04T12:45:21.532Z"
   },
   {
    "duration": 312,
    "start_time": "2024-06-04T12:45:21.547Z"
   },
   {
    "duration": 285,
    "start_time": "2024-06-04T12:45:21.862Z"
   },
   {
    "duration": 21500,
    "start_time": "2024-06-04T12:45:22.150Z"
   },
   {
    "duration": 21566,
    "start_time": "2024-06-04T12:45:43.654Z"
   },
   {
    "duration": 321,
    "start_time": "2024-06-04T12:46:05.222Z"
   },
   {
    "duration": 315,
    "start_time": "2024-06-04T12:46:05.546Z"
   },
   {
    "duration": 21521,
    "start_time": "2024-06-04T12:46:08.076Z"
   },
   {
    "duration": 20,
    "start_time": "2024-06-04T12:56:22.242Z"
   },
   {
    "duration": 40,
    "start_time": "2024-06-04T12:57:47.307Z"
   },
   {
    "duration": 52,
    "start_time": "2024-06-04T12:58:47.182Z"
   },
   {
    "duration": 1212,
    "start_time": "2024-06-04T13:00:46.320Z"
   },
   {
    "duration": 13,
    "start_time": "2024-06-04T13:00:47.535Z"
   },
   {
    "duration": 3,
    "start_time": "2024-06-04T13:00:47.551Z"
   },
   {
    "duration": 4,
    "start_time": "2024-06-04T13:00:47.559Z"
   },
   {
    "duration": 68,
    "start_time": "2024-06-04T13:00:47.566Z"
   },
   {
    "duration": 8,
    "start_time": "2024-06-04T13:00:47.637Z"
   },
   {
    "duration": 8,
    "start_time": "2024-06-04T13:00:47.649Z"
   },
   {
    "duration": 9,
    "start_time": "2024-06-04T13:00:47.661Z"
   },
   {
    "duration": 67,
    "start_time": "2024-06-04T13:00:47.675Z"
   },
   {
    "duration": 10,
    "start_time": "2024-06-04T13:00:47.747Z"
   },
   {
    "duration": 36,
    "start_time": "2024-06-04T13:00:47.759Z"
   },
   {
    "duration": 43,
    "start_time": "2024-06-04T13:00:47.798Z"
   },
   {
    "duration": 289,
    "start_time": "2024-06-04T13:00:47.844Z"
   },
   {
    "duration": 19,
    "start_time": "2024-06-04T13:00:48.135Z"
   },
   {
    "duration": 21614,
    "start_time": "2024-06-04T13:00:48.158Z"
   },
   {
    "duration": 39,
    "start_time": "2024-06-04T13:01:09.776Z"
   },
   {
    "duration": 307,
    "start_time": "2024-06-04T13:01:09.833Z"
   },
   {
    "duration": 52,
    "start_time": "2024-06-04T13:01:10.144Z"
   },
   {
    "duration": 36,
    "start_time": "2024-06-04T13:14:02.293Z"
   },
   {
    "duration": 1226,
    "start_time": "2024-06-04T13:14:12.565Z"
   },
   {
    "duration": 13,
    "start_time": "2024-06-04T13:14:13.794Z"
   },
   {
    "duration": 4,
    "start_time": "2024-06-04T13:14:13.810Z"
   },
   {
    "duration": 4,
    "start_time": "2024-06-04T13:14:13.832Z"
   },
   {
    "duration": 32,
    "start_time": "2024-06-04T13:14:13.839Z"
   },
   {
    "duration": 7,
    "start_time": "2024-06-04T13:14:13.874Z"
   },
   {
    "duration": 8,
    "start_time": "2024-06-04T13:14:13.884Z"
   },
   {
    "duration": 45,
    "start_time": "2024-06-04T13:14:13.894Z"
   },
   {
    "duration": 26,
    "start_time": "2024-06-04T13:14:13.942Z"
   },
   {
    "duration": 9,
    "start_time": "2024-06-04T13:14:13.973Z"
   },
   {
    "duration": 83,
    "start_time": "2024-06-04T13:14:13.984Z"
   },
   {
    "duration": 8,
    "start_time": "2024-06-04T13:14:14.070Z"
   },
   {
    "duration": 305,
    "start_time": "2024-06-04T13:14:14.082Z"
   },
   {
    "duration": 19,
    "start_time": "2024-06-04T13:14:14.390Z"
   },
   {
    "duration": 21288,
    "start_time": "2024-06-04T13:14:14.413Z"
   },
   {
    "duration": 58,
    "start_time": "2024-06-04T13:14:35.704Z"
   },
   {
    "duration": 314,
    "start_time": "2024-06-04T13:14:35.765Z"
   },
   {
    "duration": 68,
    "start_time": "2024-06-04T13:14:36.083Z"
   },
   {
    "duration": 1252,
    "start_time": "2024-06-04T19:20:58.308Z"
   },
   {
    "duration": 21,
    "start_time": "2024-06-04T19:20:59.565Z"
   },
   {
    "duration": 4,
    "start_time": "2024-06-04T19:20:59.589Z"
   },
   {
    "duration": 16,
    "start_time": "2024-06-04T19:20:59.596Z"
   },
   {
    "duration": 32,
    "start_time": "2024-06-04T19:20:59.616Z"
   },
   {
    "duration": 8,
    "start_time": "2024-06-04T19:20:59.651Z"
   },
   {
    "duration": 8,
    "start_time": "2024-06-04T19:20:59.662Z"
   },
   {
    "duration": 7,
    "start_time": "2024-06-04T19:20:59.714Z"
   },
   {
    "duration": 25,
    "start_time": "2024-06-04T19:20:59.725Z"
   },
   {
    "duration": 10,
    "start_time": "2024-06-04T19:20:59.753Z"
   },
   {
    "duration": 80,
    "start_time": "2024-06-04T19:20:59.766Z"
   },
   {
    "duration": 9,
    "start_time": "2024-06-04T19:20:59.849Z"
   },
   {
    "duration": 316,
    "start_time": "2024-06-04T19:20:59.861Z"
   },
   {
    "duration": 31,
    "start_time": "2024-06-04T19:21:00.183Z"
   },
   {
    "duration": 22506,
    "start_time": "2024-06-04T19:21:00.216Z"
   },
   {
    "duration": 49,
    "start_time": "2024-06-04T19:21:22.726Z"
   },
   {
    "duration": 374,
    "start_time": "2024-06-04T19:21:22.778Z"
   },
   {
    "duration": 80,
    "start_time": "2024-06-04T19:21:23.156Z"
   },
   {
    "duration": 5,
    "start_time": "2024-06-04T19:43:32.817Z"
   },
   {
    "duration": 1287,
    "start_time": "2024-06-05T08:47:34.804Z"
   },
   {
    "duration": 25,
    "start_time": "2024-06-05T08:47:36.095Z"
   },
   {
    "duration": 6,
    "start_time": "2024-06-05T08:47:36.125Z"
   },
   {
    "duration": 4,
    "start_time": "2024-06-05T08:47:36.135Z"
   },
   {
    "duration": 60,
    "start_time": "2024-06-05T08:47:36.142Z"
   },
   {
    "duration": 9,
    "start_time": "2024-06-05T08:47:36.205Z"
   },
   {
    "duration": 8,
    "start_time": "2024-06-05T08:47:36.218Z"
   },
   {
    "duration": 7,
    "start_time": "2024-06-05T08:47:36.229Z"
   },
   {
    "duration": 65,
    "start_time": "2024-06-05T08:47:36.239Z"
   },
   {
    "duration": 11,
    "start_time": "2024-06-05T08:47:36.311Z"
   },
   {
    "duration": 36,
    "start_time": "2024-06-05T08:47:36.324Z"
   },
   {
    "duration": 39,
    "start_time": "2024-06-05T08:47:36.365Z"
   },
   {
    "duration": 303,
    "start_time": "2024-06-05T08:47:36.407Z"
   },
   {
    "duration": 21,
    "start_time": "2024-06-05T08:47:36.717Z"
   },
   {
    "duration": 21508,
    "start_time": "2024-06-05T08:47:36.741Z"
   },
   {
    "duration": 56,
    "start_time": "2024-06-05T08:47:58.252Z"
   },
   {
    "duration": 309,
    "start_time": "2024-06-05T08:47:58.310Z"
   },
   {
    "duration": 52,
    "start_time": "2024-06-05T08:47:58.622Z"
   },
   {
    "duration": 403,
    "start_time": "2024-06-05T08:48:21.942Z"
   },
   {
    "duration": 8,
    "start_time": "2024-06-05T08:48:24.542Z"
   },
   {
    "duration": 4,
    "start_time": "2024-06-05T08:48:35.304Z"
   },
   {
    "duration": 26,
    "start_time": "2024-06-05T08:50:50.224Z"
   },
   {
    "duration": 30,
    "start_time": "2024-06-05T08:50:57.192Z"
   },
   {
    "duration": 10,
    "start_time": "2024-06-05T08:51:09.078Z"
   },
   {
    "duration": 14,
    "start_time": "2024-06-05T08:51:12.346Z"
   },
   {
    "duration": 10,
    "start_time": "2024-06-05T08:54:08.813Z"
   },
   {
    "duration": 12,
    "start_time": "2024-06-05T08:54:42.311Z"
   },
   {
    "duration": 810,
    "start_time": "2024-12-18T14:37:33.936Z"
   },
   {
    "duration": 16,
    "start_time": "2024-12-18T14:37:34.748Z"
   },
   {
    "duration": 3,
    "start_time": "2024-12-18T14:37:34.765Z"
   },
   {
    "duration": 3,
    "start_time": "2024-12-18T14:37:34.771Z"
   },
   {
    "duration": 17,
    "start_time": "2024-12-18T14:37:34.776Z"
   },
   {
    "duration": 17,
    "start_time": "2024-12-18T14:37:34.794Z"
   },
   {
    "duration": 5,
    "start_time": "2024-12-18T14:37:34.812Z"
   },
   {
    "duration": 5,
    "start_time": "2024-12-18T14:37:34.818Z"
   },
   {
    "duration": 15,
    "start_time": "2024-12-18T14:37:34.824Z"
   },
   {
    "duration": 5,
    "start_time": "2024-12-18T14:37:34.842Z"
   },
   {
    "duration": 21,
    "start_time": "2024-12-18T14:37:34.849Z"
   },
   {
    "duration": 37,
    "start_time": "2024-12-18T14:37:34.872Z"
   },
   {
    "duration": 172,
    "start_time": "2024-12-18T14:37:34.911Z"
   },
   {
    "duration": 11,
    "start_time": "2024-12-18T14:37:35.086Z"
   },
   {
    "duration": 12238,
    "start_time": "2024-12-18T14:37:35.099Z"
   },
   {
    "duration": 24,
    "start_time": "2024-12-18T14:37:47.339Z"
   },
   {
    "duration": 161,
    "start_time": "2024-12-18T14:37:47.366Z"
   },
   {
    "duration": 24,
    "start_time": "2024-12-18T14:37:47.529Z"
   },
   {
    "duration": 2,
    "start_time": "2024-12-18T14:37:47.555Z"
   },
   {
    "duration": 7,
    "start_time": "2024-12-18T14:37:47.559Z"
   },
   {
    "duration": 24,
    "start_time": "2024-12-18T14:38:06.695Z"
   }
  ],
  "kernelspec": {
   "display_name": "Python 3 (ipykernel)",
   "language": "python",
   "name": "python3"
  },
  "language_info": {
   "codemirror_mode": {
    "name": "ipython",
    "version": 3
   },
   "file_extension": ".py",
   "mimetype": "text/x-python",
   "name": "python",
   "nbconvert_exporter": "python",
   "pygments_lexer": "ipython3",
   "version": "3.10.4"
  },
  "toc": {
   "base_numbering": 1,
   "nav_menu": {},
   "number_sections": true,
   "sideBar": true,
   "skip_h1_title": true,
   "title_cell": "Table of Contents",
   "title_sidebar": "Contents",
   "toc_cell": false,
   "toc_position": {},
   "toc_section_display": true,
   "toc_window_display": false
  }
 },
 "nbformat": 4,
 "nbformat_minor": 2
}
